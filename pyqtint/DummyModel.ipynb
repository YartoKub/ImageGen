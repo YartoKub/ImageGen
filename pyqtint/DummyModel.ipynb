{
 "cells": [
  {
   "cell_type": "code",
   "execution_count": 2,
   "id": "a5e549aa",
   "metadata": {},
   "outputs": [
    {
     "name": "stdout",
     "output_type": "stream",
     "text": [
      "[PhysicalDevice(name='/physical_device:GPU:0', device_type='GPU')]\n"
     ]
    }
   ],
   "source": [
    "import tensorflow as tf\n",
    "from tensorflow import keras\n",
    "import tensorflow_datasets as tfds\n",
    "gpus = tf.config.experimental.list_physical_devices(\"GPU\")\n",
    "print(gpus)\n",
    "import numpy as np\n",
    "import math\n",
    "import pandas\n",
    "from matplotlib import pyplot as plt\n",
    "from PIL import Image\n",
    "import os"
   ]
  },
  {
   "cell_type": "code",
   "execution_count": null,
   "id": "f4396dde",
   "metadata": {},
   "outputs": [],
   "source": [
    "locloc = \"BigDataCubes\\CombinedDatasets\" \n",
    "namename = \"\\Part0\"\n",
    "all_photos = np.load(locloc + namename + 'Photos.npy')\n",
    "#all_labels = np.load(locloc + namename + 'Labels.npy') # Эта штука соответствует одному из значений в all_degrees, котрое соответствует некой маске\n",
    "all_vectors = np.load(locloc + namename + 'Vectors.npy')\n",
    "#all_degrees = np.load(locloc + namename + 'RotationDegrees.npy')\n",
    "#all_albedos = np.load(locloc + namename + 'Albedos.npy')\n",
    "all_normals = np.load(locloc + namename + 'Normals.npy')\n",
    "all_masks = np.load(locloc + namename + 'Masks.npy')\n",
    "# Цель просто сделать рабочий генератор маски."
   ]
  }
 ],
 "metadata": {
  "kernelspec": {
   "display_name": "gpu",
   "language": "python",
   "name": "python3"
  },
  "language_info": {
   "codemirror_mode": {
    "name": "ipython",
    "version": 3
   },
   "file_extension": ".py",
   "mimetype": "text/x-python",
   "name": "python",
   "nbconvert_exporter": "python",
   "pygments_lexer": "ipython3",
   "version": "3.9.20"
  }
 },
 "nbformat": 4,
 "nbformat_minor": 5
}
