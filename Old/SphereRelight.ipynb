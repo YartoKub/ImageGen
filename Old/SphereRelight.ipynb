{
 "cells": [
  {
   "cell_type": "code",
   "execution_count": 1,
   "id": "d5a62fa6-c36d-4e78-9fa9-284d76ab66ee",
   "metadata": {},
   "outputs": [
    {
     "name": "stdout",
     "output_type": "stream",
     "text": [
      "[PhysicalDevice(name='/physical_device:GPU:0', device_type='GPU')]\n"
     ]
    }
   ],
   "source": [
    "import tensorflow as tf\n",
    "gpus = tf.config.experimental.list_physical_devices(\"GPU\")\n",
    "print(gpus)\n",
    "import numpy as np\n",
    "import math\n",
    "import pandas\n",
    "from matplotlib import pyplot as plt"
   ]
  },
  {
   "cell_type": "code",
   "execution_count": 72,
   "id": "0406efa1-4b5c-431c-bad2-9960fb86a7de",
   "metadata": {},
   "outputs": [],
   "source": [
    "number_of_steps = 72\n",
    "angle_per_step = 360 / number_of_steps\n",
    "image_count = 5184"
   ]
  },
  {
   "cell_type": "markdown",
   "id": "2e7f610a-71d4-4968-ad20-da353e8b3b28",
   "metadata": {},
   "source": [
    "Чтобы штукенция работала нужно загрузить 2 numpy файла в Colab:  all_photos.npy и all_vectors.npy |\n",
    "Ссылка:\n",
    "https://drive.google.com/drive/folders/13YDAvu2tXAxBnM-OzgvATwOgDFwRm3pr?usp=sharing"
   ]
  },
  {
   "cell_type": "code",
   "execution_count": 12,
   "id": "b388388c-4c6a-4f77-a7c5-b2245da13608",
   "metadata": {},
   "outputs": [
    {
     "name": "stdout",
     "output_type": "stream",
     "text": [
      "159 4\n"
     ]
    },
    {
     "data": {
      "text/plain": [
       "'\\ntrain_photos= all_photos[:train_size]\\ntrain_vectors = all_vectors[:train_size]\\ntest_photos = all_photos[train_size:]\\ntest_vectors = all_vectors[train_size:]\\nprint(str(train_photos.shape) + \" \" + str(train_vectors.shape))\\nprint(str(test_photos.shape) + \" \" + str(test_vectors.shape))'"
      ]
     },
     "execution_count": 12,
     "metadata": {},
     "output_type": "execute_result"
    }
   ],
   "source": [
    "all_photos = np.load('all_photos.npy')\n",
    "all_vectors = np.load('all_vectors.npy')\n",
    "train_size = int(0.98 * len(all_vectors))\n",
    "\n",
    "dataset = tf.data.Dataset.from_tensor_slices((all_vectors, all_photos))\n",
    "dataset = dataset.shuffle(buffer_size=100, seed=42)\n",
    "\n",
    "train_dataset = dataset.take(train_size)\n",
    "test_dataset = dataset.skip(train_size)\n",
    "\n",
    "train_dataset = train_dataset.batch(32)\n",
    "test_dataset = test_dataset.batch(32)\n",
    "\n",
    "print(len(list(train_dataset)), len(list(test_dataset)))\n",
    "#for images, labels in train_dataset: print(images.shape, labels.shape)\n",
    "\"\"\"\n",
    "train_photos= all_photos[:train_size]\n",
    "train_vectors = all_vectors[:train_size]\n",
    "test_photos = all_photos[train_size:]\n",
    "test_vectors = all_vectors[train_size:]\n",
    "print(str(train_photos.shape) + \" \" + str(train_vectors.shape))\n",
    "print(str(test_photos.shape) + \" \" + str(test_vectors.shape))\"\"\""
   ]
  },
  {
   "cell_type": "code",
   "execution_count": 84,
   "id": "7a25a365-68b4-4ba4-8aec-bacd6cdd4369",
   "metadata": {},
   "outputs": [
    {
     "name": "stdout",
     "output_type": "stream",
     "text": [
      "Model: \"sequential_12\"\n",
      "_________________________________________________________________\n",
      " Layer (type)                Output Shape              Param #   \n",
      "=================================================================\n",
      " dense_82 (Dense)            (None, 8)                 32        \n",
      "                                                                 \n",
      " dense_83 (Dense)            (None, 16)                144       \n",
      "                                                                 \n",
      " dense_84 (Dense)            (None, 32)                544       \n",
      "                                                                 \n",
      " dropout_36 (Dropout)        (None, 32)                0         \n",
      "                                                                 \n",
      " dense_85 (Dense)            (None, 48)                1584      \n",
      "                                                                 \n",
      " dropout_37 (Dropout)        (None, 48)                0         \n",
      "                                                                 \n",
      " dense_86 (Dense)            (None, 64)                3136      \n",
      "                                                                 \n",
      " dropout_38 (Dropout)        (None, 64)                0         \n",
      "                                                                 \n",
      " dense_87 (Dense)            (None, 1024)              66560     \n",
      "                                                                 \n",
      " reshape_12 (Reshape)        (None, 32, 32)            0         \n",
      "                                                                 \n",
      "=================================================================\n",
      "Total params: 72,000\n",
      "Trainable params: 72,000\n",
      "Non-trainable params: 0\n",
      "_________________________________________________________________\n"
     ]
    }
   ],
   "source": [
    "tf.keras.utils.set_random_seed(42)\n",
    "model = tf.keras.models.Sequential([\n",
    "  tf.keras.layers.Dense(8, activation='linear',  input_shape=((3,))),\n",
    "  tf.keras.layers.Dense(16, activation='relu'),\n",
    "  tf.keras.layers.Dense(32, activation='relu'),\n",
    "  tf.keras.layers.Dropout(0.15),\n",
    "  tf.keras.layers.Dense(48, activation='relu'),\n",
    "  tf.keras.layers.Dropout(0.15),\n",
    "  tf.keras.layers.Dense(64, activation='relu'),\n",
    "  tf.keras.layers.Dropout(0.25),\n",
    "  # tf.keras.layers.Dense(128, activation='relu'),\n",
    "  # tf.keras.layers.Dropout(0.1),\n",
    "  tf.keras.layers.Dense(32*32, activation='relu'),\n",
    "  tf.keras.layers.Reshape((32,32))\n",
    "])\n",
    "model.compile(optimizer='adam',\n",
    "              loss='mean_squared_error', \n",
    "              metrics=['mean_squared_error'])\n",
    "              \n",
    "model.summary()"
   ]
  },
  {
   "cell_type": "code",
   "execution_count": 85,
   "id": "59f9edf0-ba03-4fa7-9224-c492a30ec33f",
   "metadata": {},
   "outputs": [
    {
     "name": "stdout",
     "output_type": "stream",
     "text": [
      "Epoch 1/4\n",
      "159/159 [==============================] - 2s 9ms/step - loss: 0.0094 - mean_squared_error: 0.0094\n",
      "Epoch 2/4\n",
      "159/159 [==============================] - 1s 6ms/step - loss: 0.0033 - mean_squared_error: 0.0033\n",
      "Epoch 3/4\n",
      "159/159 [==============================] - 1s 6ms/step - loss: 0.0022 - mean_squared_error: 0.0022\n",
      "Epoch 4/4\n",
      "159/159 [==============================] - 1s 5ms/step - loss: 0.0018 - mean_squared_error: 0.0018\n"
     ]
    },
    {
     "data": {
      "text/plain": [
       "<keras.callbacks.History at 0x25528b5c5b0>"
      ]
     },
     "execution_count": 85,
     "metadata": {},
     "output_type": "execute_result"
    }
   ],
   "source": [
    "tf.keras.utils.set_random_seed(42)\n",
    "model.fit(train_dataset, epochs=4)"
   ]
  },
  {
   "cell_type": "code",
   "execution_count": 86,
   "id": "f96dbebf-45cc-4bdd-a615-da38e965df28",
   "metadata": {},
   "outputs": [],
   "source": [
    "def ManualCheck(smartnum):\n",
    "    pred = model.predict(all_vectors[smartnum].reshape(1, 3))\n",
    "    truth = all_photos[smartnum]\n",
    "    finalImage = np.concatenate((pred[0], truth), axis=1)\n",
    "    print(all_vectors[smartnum])\n",
    "    plt.imshow(finalImage)\n",
    "    plt.title(\"Prediction\", loc = 'left')\n",
    "    plt.title(\"Ground Truth\", loc = 'right')"
   ]
  },
  {
   "cell_type": "code",
   "execution_count": 87,
   "id": "3e01ec6e-6700-4292-a91d-3e1c8e766f10",
   "metadata": {},
   "outputs": [
    {
     "name": "stdout",
     "output_type": "stream",
     "text": [
      "WARNING:tensorflow:5 out of the last 12 calls to <function Model.make_predict_function.<locals>.predict_function at 0x0000025528A621F0> triggered tf.function retracing. Tracing is expensive and the excessive number of tracings could be due to (1) creating @tf.function repeatedly in a loop, (2) passing tensors with different shapes, (3) passing Python objects instead of tensors. For (1), please define your @tf.function outside of the loop. For (2), @tf.function has reduce_retracing=True option that can avoid unnecessary retracing. For (3), please refer to https://www.tensorflow.org/guide/function#controlling_retracing and https://www.tensorflow.org/api_docs/python/tf/function for  more details.\n",
      "1/1 [==============================] - 0s 72ms/step\n",
      "[ 0.08715574 -0.9961947   0.        ]\n"
     ]
    },
    {
     "data": {
      "image/png": "[encoded data removed]",
      "text/plain": [
       "<Figure size 640x480 with 1 Axes>"
      ]
     },
     "metadata": {},
     "output_type": "display_data"
    }
   ],
   "source": [
    "ManualCheck(72)"
   ]
  },
  {
   "cell_type": "code",
   "execution_count": 89,
   "id": "0daae312-2f1d-4edd-a87e-8ccf2c12a902",
   "metadata": {},
   "outputs": [
    {
     "name": "stdout",
     "output_type": "stream",
     "text": [
      "4/4 [==============================] - 0s 8ms/step - loss: 4.4008e-04 - mean_squared_error: 4.4008e-04\n"
     ]
    },
    {
     "data": {
      "text/plain": [
       "[0.00044008379336446524, 0.00044008379336446524]"
      ]
     },
     "execution_count": 89,
     "metadata": {},
     "output_type": "execute_result"
    }
   ],
   "source": [
    "model.evaluate(test_dataset)"
   ]
  },
  {
   "cell_type": "code",
   "execution_count": 88,
   "id": "d98105d7-cd14-43b4-9b00-03acc72e499c",
   "metadata": {},
   "outputs": [],
   "source": [
    "model.save(\"Angle2Sphere001.keras\")"
   ]
  },
  {
   "cell_type": "markdown",
   "id": "f82fc620-d693-4dd3-9942-7d19b12c139a",
   "metadata": {},
   "source": [
    "По итогу что получилось: Модель представляет собой автоэнкодер. Есть модель энкодер, которая сжимает сферу в карту латентных признаков, т.е. вектор направления света, а декодер берет этот вектор направления и превращает его в картинку сферы. В целом он очень даже точный."
   ]
  }
 ],
 "metadata": {
  "kernelspec": {
   "display_name": "gpu",
   "language": "python",
   "name": "myenv"
  },
  "language_info": {
   "codemirror_mode": {
    "name": "ipython",
    "version": 3
   },
   "file_extension": ".py",
   "mimetype": "text/x-python",
   "name": "python",
   "nbconvert_exporter": "python",
   "pygments_lexer": "ipython3",
   "version": "3.9.20"
  }
 },
 "nbformat": 4,
 "nbformat_minor": 5
}
