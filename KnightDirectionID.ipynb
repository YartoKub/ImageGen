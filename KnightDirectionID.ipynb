{
 "cells": [
  {
   "cell_type": "code",
   "execution_count": null,
   "id": "75464ac2-3754-4f80-a3fe-ff7f5fc67268",
   "metadata": {},
   "outputs": [],
   "source": [
    "import tensorflow as tf\n",
    "from tensorflow import keras\n",
    "import tensorflow_datasets as tfds\n",
    "gpus = tf.config.experimental.list_physical_devices(\"GPU\")\n",
    "print(gpus)\n",
    "import numpy as np\n",
    "import math\n",
    "import pandas\n",
    "from matplotlib import pyplot as plt\n",
    "from PIL import Image\n",
    "import os"
   ]
  },
  {
   "cell_type": "code",
   "execution_count": 1,
   "id": "72b0ef81-02d3-40cd-9ae1-68e72e2e9a51",
   "metadata": {},
   "outputs": [
    {
     "ename": "NameError",
     "evalue": "name 'np' is not defined",
     "output_type": "error",
     "traceback": [
      "\u001b[1;31m---------------------------------------------------------------------------\u001b[0m",
      "\u001b[1;31mNameError\u001b[0m                                 Traceback (most recent call last)",
      "Cell \u001b[1;32mIn[1], line 1\u001b[0m\n\u001b[1;32m----> 1\u001b[0m all_photos \u001b[38;5;241m=\u001b[39m \u001b[43mnp\u001b[49m\u001b[38;5;241m.\u001b[39mload(\u001b[38;5;124m'\u001b[39m\u001b[38;5;124mKnightPhotos.npy\u001b[39m\u001b[38;5;124m'\u001b[39m)\n\u001b[0;32m      3\u001b[0m all_labels \u001b[38;5;241m=\u001b[39m np\u001b[38;5;241m.\u001b[39mload(\u001b[38;5;124m'\u001b[39m\u001b[38;5;124mKnightLabels.npy\u001b[39m\u001b[38;5;124m'\u001b[39m) \u001b[38;5;66;03m# Эта штука соответствует одному из значений в all_degrees, котрое соответствует некой маске\u001b[39;00m\n\u001b[0;32m      4\u001b[0m all_vectors \u001b[38;5;241m=\u001b[39m np\u001b[38;5;241m.\u001b[39mload(\u001b[38;5;124m'\u001b[39m\u001b[38;5;124mKnightVectors.npy\u001b[39m\u001b[38;5;124m'\u001b[39m)\n",
      "\u001b[1;31mNameError\u001b[0m: name 'np' is not defined"
     ]
    }
   ],
   "source": [
    "all_photos = np.load('KnightPhotos.npy')\n",
    "\n",
    "all_labels = np.load('KnightLabels.npy') # Эта штука соответствует одному из значений в all_degrees, котрое соответствует некой маске\n",
    "all_vectors = np.load('KnightVectors.npy')\n",
    "\n",
    "all_degrees = np.load('KnightRotationDegrees.npy')\n",
    "all_albedos = np.load('KnightAlbedos.npy')\n",
    "all_normals = np.load('KnightNormals.npy')\n",
    "all_masks = np.load('KnightMasks.npy')"
   ]
  },
  {
   "cell_type": "code",
   "execution_count": null,
   "id": "41741fa5-d250-4b58-8dc9-cdb7f4a077fe",
   "metadata": {},
   "outputs": [],
   "source": [
    "def ShowImageSeriesUpTo16(imageList): # input is normal LIST\n",
    "    if len(imageList) > 64: \n",
    "        return\n",
    "    while len(imageList) % 4 != 0:\n",
    "        imageList.append(np.ones(imageList[0].shape))\n",
    "    readyRows = list()\n",
    "    for y in range(len(imageList) // 4):\n",
    "        readyRows.append(np.concatenate((imageList[y * 4 +0],imageList[y * 4 +1],imageList[y * 4 +2],imageList[y * 4 +3]), axis = 1))\n",
    "\n",
    "    final = np.concatenate(readyRows, axis = 0)\n",
    "    return final\n",
    "myArray = [all_photos[0], all_albedos[0], all_normals[0], all_masks[0]]\n",
    "ExpandedImage = ShowImageSeriesUpTo16(myArray).astype('float32')\n",
    "print(ExpandedImage.shape)\n",
    "plt.imshow(ExpandedImage)"
   ]
  },
  {
   "cell_type": "code",
   "execution_count": null,
   "id": "601fd90e-0256-45d2-a198-b07a0da7e54c",
   "metadata": {},
   "outputs": [],
   "source": [
    "def ManualCheck(original_index):\n",
    "    #print(all_photos.shape)\n",
    "    inputt = all_photos[original_index].reshape(1, 64, 64, 3)\n",
    "    prediction = model.predict(inputt)[0].round(3)\n",
    "    origV = (all_vectors[original_index]).round(3)\n",
    "    predV = (prediction).round(3)\n",
    "    print(\"Prediction  : \", predV)\n",
    "    print(\"Ground truth: \", origV)\n",
    "    print(\"Diff \", origV - predV)\n",
    "    print(\"Total Diff \", np.sum(origV - predV))\n",
    "    \n",
    "    print(\"orig L: \", np.linalg.norm(origV))\n",
    "    print(\"pred L: \", np.linalg.norm(predV))\n",
    "    plt.imshow(all_photos[original_index])"
   ]
  },
  {
   "cell_type": "code",
   "execution_count": null,
   "id": "cc373d85-5ca3-4caa-b6b1-5987d4b7523d",
   "metadata": {},
   "outputs": [],
   "source": [
    "train_size = int(0.95 * len(all_vectors))\n",
    "\n",
    "dataset = tf.data.Dataset.from_tensor_slices((all_photos, all_vectors))\n",
    "dataset = dataset.shuffle(buffer_size=128, seed=42)\n",
    "\n",
    "train_dataset = dataset.take(train_size)\n",
    "test_dataset = dataset.skip(train_size)\n",
    "\n",
    "train_dataset = train_dataset.batch(32)\n",
    "test_dataset = test_dataset.batch(32)\n",
    "\n",
    "print(len(list(train_dataset)), len(list(test_dataset)))"
   ]
  },
  {
   "cell_type": "code",
   "execution_count": null,
   "id": "832ddfda-1ab1-45eb-88d1-06c2cae308d1",
   "metadata": {},
   "outputs": [],
   "source": [
    "tf.keras.utils.set_random_seed(42)\n",
    "model = tf.keras.models.Sequential([\n",
    "  tf.keras.layers.Conv2D(4, (5, 5), activation='linear', input_shape=(64, 64, 3)),\n",
    "  #tf.keras.layers.MaxPooling2D((2, 2)),\n",
    "  tf.keras.layers.Conv2D(4, (5, 5), activation='linear'),\n",
    "  tf.keras.layers.Conv2D(4, (5, 5), activation='linear'),\n",
    "  tf.keras.layers.Conv2D(4, (5, 5), activation='linear'),\n",
    "  tf.keras.layers.Conv2D(4, (5, 5), activation='linear'),\n",
    "  tf.keras.layers.Conv2D(4, (5, 5), activation='linear'),\n",
    "  tf.keras.layers.Conv2D(5, (5, 5), activation='linear'),\n",
    "  tf.keras.layers.Conv2D(5, (5, 5), activation='linear'),\n",
    "  tf.keras.layers.Conv2D(6, (5, 5), activation='linear'),\n",
    "  tf.keras.layers.Conv2D(6, (5, 5), activation='linear'),\n",
    "\n",
    "  tf.keras.layers.Flatten(),\n",
    "\n",
    "  tf.keras.layers.Dense(32, activation='linear'),\n",
    "  tf.keras.layers.Dropout(0.15),\n",
    "  tf.keras.layers.Dense(24, activation='linear'),\n",
    "  tf.keras.layers.Dropout(0.15),\n",
    "  tf.keras.layers.Dense(16, activation='linear'),\n",
    "  tf.keras.layers.Dropout(0.15),\n",
    "  tf.keras.layers.Dense(3)\n",
    "])\n",
    "model.compile(optimizer='adam',\n",
    "              loss='mean_absolute_error', #mean_squared_error\n",
    "              metrics=['mean_absolute_error'])             \n",
    "model.summary()"
   ]
  },
  {
   "cell_type": "code",
   "execution_count": null,
   "id": "4796c4c3-e0d8-440e-b781-336d0b81e34d",
   "metadata": {},
   "outputs": [],
   "source": [
    "tf.keras.utils.set_random_seed(42)\n",
    "model.fit(train_dataset, epochs=5)"
   ]
  },
  {
   "cell_type": "code",
   "execution_count": null,
   "id": "74af13e8-f3ef-428b-907e-d5a2549226d6",
   "metadata": {},
   "outputs": [],
   "source": [
    "model.evaluate(test_dataset)"
   ]
  },
  {
   "cell_type": "code",
   "execution_count": null,
   "id": "a42b71cb-fe1a-4ce6-845f-a0f7d12e139d",
   "metadata": {},
   "outputs": [],
   "source": [
    "ManualCheck(2500)"
   ]
  }
 ],
 "metadata": {
  "kernelspec": {
   "display_name": "gpu",
   "language": "python",
   "name": "myenv"
  },
  "language_info": {
   "codemirror_mode": {
    "name": "ipython",
    "version": 3
   },
   "file_extension": ".py",
   "mimetype": "text/x-python",
   "name": "python",
   "nbconvert_exporter": "python",
   "pygments_lexer": "ipython3",
   "version": "3.9.20"
  }
 },
 "nbformat": 4,
 "nbformat_minor": 5
}
