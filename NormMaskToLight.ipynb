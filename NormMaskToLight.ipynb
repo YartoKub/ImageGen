{
 "cells": [
  {
   "cell_type": "code",
   "execution_count": 1,
   "id": "9526370f-629e-4f37-af2d-26a445692164",
   "metadata": {},
   "outputs": [
    {
     "name": "stdout",
     "output_type": "stream",
     "text": [
      "[PhysicalDevice(name='/physical_device:GPU:0', device_type='GPU')]\n"
     ]
    }
   ],
   "source": [
    "import tensorflow as tf\n",
    "from tensorflow import keras\n",
    "import tensorflow_datasets as tfds\n",
    "gpus = tf.config.experimental.list_physical_devices(\"GPU\")\n",
    "print(gpus)\n",
    "import numpy as np\n",
    "import math\n",
    "from matplotlib import pyplot as plt\n",
    "from PIL import Image\n",
    "import os"
   ]
  },
  {
   "cell_type": "code",
   "execution_count": 5,
   "id": "10876cd9-f10a-4e5b-8498-a74164b754da",
   "metadata": {},
   "outputs": [],
   "source": [
    "locloc = \"BigData\" \n",
    "namename = \"\\TestBigPastel\"\n",
    "all_photos = np.load(locloc + namename + 'Photos.npy')\n",
    "#all_labels = np.load(locloc + namename + 'Labels.npy') # Эта штука соответствует одному из значений в all_degrees, котрое соответствует некой маске\n",
    "#all_vectors = np.load(locloc + namename + 'Vectors.npy')\n",
    "#all_degrees = np.load(locloc + namename + 'RotationDegrees.npy')\n",
    "#all_albedos = np.load(locloc + namename + 'Albedos.npy')\n",
    "all_normals = np.load(locloc + namename + 'Normals.npy')\n",
    "#all_masks = np.load(locloc + namename + 'Masks.npy')\n",
    "# Цель просто сделать рабочий генератор маски."
   ]
  },
  {
   "cell_type": "code",
   "execution_count": null,
   "id": "186602fb-43dd-4f70-8e9e-95c8ed5c216e",
   "metadata": {},
   "outputs": [],
   "source": [
    "batch_size = 64\n",
    "train_size = 1\n",
    "lightjumps = 57\n",
    "# Test Dataset нужно грузить отдельно\n",
    "\n",
    "dataset = tf.data.Dataset.from_tensor_slices((all_photos, all_normals))\n",
    "\n",
    "dataset = dataset.shuffle(buffer_size=512, seed=13)\n",
    "\n",
    "train_dataset = dataset.batch(64, drop_remainder=True)\n",
    "print(all_photos.shape)"
   ]
  }
 ],
 "metadata": {
  "kernelspec": {
   "display_name": "gpu",
   "language": "python",
   "name": "myenv"
  },
  "language_info": {
   "codemirror_mode": {
    "name": "ipython",
    "version": 3
   },
   "file_extension": ".py",
   "mimetype": "text/x-python",
   "name": "python",
   "nbconvert_exporter": "python",
   "pygments_lexer": "ipython3",
   "version": "3.9.20"
  }
 },
 "nbformat": 4,
 "nbformat_minor": 5
}
