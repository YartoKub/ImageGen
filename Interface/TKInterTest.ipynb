{
 "cells": [
  {
   "cell_type": "code",
   "execution_count": 1,
   "id": "1fdc2474-065c-4f9a-aa32-28ec493d1a5b",
   "metadata": {},
   "outputs": [],
   "source": [
    "import tkinter as tk"
   ]
  },
  {
   "cell_type": "code",
   "execution_count": null,
   "id": "5ff9960a-5f68-4ef6-bc23-33574a2c69ed",
   "metadata": {},
   "outputs": [],
   "source": [
    "import tkinter as tk\n",
    "import threading\n",
    "\n",
    "def run_tkinter():\n",
    "    root = tk.Tk()\n",
    "    root.title(\"Tkinter в Jupyter\")\n",
    "    \n",
    "    label = tk.Label(root, text=\"Привет, мир!\")\n",
    "    label.pack(padx=20, pady=20)\n",
    "\n",
    "    button = tk.Button(root, text=\"Закрыть\", command=root.quit)\n",
    "    button.pack(pady=10)\n",
    "\n",
    "    root.mainloop()\n",
    "\n",
    "# Запуск tkinter в отдельном потоке обязателен, иначе chrome и jupyter начинают лагать.\n",
    "thread = threading.Thread(target=run_tkinter)\n",
    "thread.start()"
   ]
  },
  {
   "cell_type": "code",
   "execution_count": null,
   "id": "744e59c0-7582-462c-a915-a940194a3562",
   "metadata": {},
   "outputs": [
    {
     "name": "stdout",
     "output_type": "stream",
     "text": [
      "Запуск сервера на http://localhost:8000\n"
     ]
    },
    {
     "name": "stdout",
     "output_type": "stream",
     "text": [
      "Нажмите Enter для остановки сервера...\n",
      " \n"
     ]
    },
    {
     "name": "stdout",
     "output_type": "stream",
     "text": [
      "Остановка сервера...\n",
      "Сервер остановлен.\n"
     ]
    }
   ],
   "source": [
    "import threading\n",
    "from http.server import HTTPServer, BaseHTTPRequestHandler\n",
    "\n",
    "class SimpleHandler(BaseHTTPRequestHandler):\n",
    "    def do_GET(self):\n",
    "        if self.path == '/':\n",
    "            self.send_response(200)\n",
    "            self.send_header('Content-type', 'text/html; charset=utf-8')\n",
    "            self.end_headers()\n",
    "            self.wfile.write(b\"<html><body><h1>Server works.</h1></body></html>\")\n",
    "        else:\n",
    "            self.send_response(404)\n",
    "            self.end_headers()\n",
    "\n",
    "    def log_message(self, format, *args):\n",
    "        return\n",
    "\n",
    "class ThreadedHTTPServer:\n",
    "    def __init__(self, host='localhost', port=8000):\n",
    "        self.server = HTTPServer((host, port), SimpleHandler)\n",
    "        self.thread = threading.Thread(target=self.server.serve_forever)\n",
    "        self.thread.daemon = True  \n",
    "\n",
    "    def start(self):\n",
    "        print(\"Запуск сервера на http://localhost:8000\")\n",
    "        self.thread.start()\n",
    "\n",
    "    def stop(self):\n",
    "        print(\"Остановка сервера...\")\n",
    "        self.server.shutdown()\n",
    "        self.thread.join()\n",
    "        print(\"Сервер остановлен.\")\n",
    "\n",
    "if __name__ == '__main__':\n",
    "    server = ThreadedHTTPServer()\n",
    "    server.start()\n",
    "\n",
    "    input(\"Enter to stop...\\n\")\n",
    "    server.stop()"
   ]
  }
 ],
 "metadata": {
  "kernelspec": {
   "display_name": "gpu",
   "language": "python",
   "name": "myenv"
  },
  "language_info": {
   "codemirror_mode": {
    "name": "ipython",
    "version": 3
   },
   "file_extension": ".py",
   "mimetype": "text/x-python",
   "name": "python",
   "nbconvert_exporter": "python",
   "pygments_lexer": "ipython3",
   "version": "3.9.20"
  }
 },
 "nbformat": 4,
 "nbformat_minor": 5
}
