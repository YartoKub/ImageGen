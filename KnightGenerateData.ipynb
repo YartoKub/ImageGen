{
 "cells": [
  {
   "cell_type": "code",
   "execution_count": 1,
   "id": "9bfddca9-6265-4a7c-9c4e-7ce91b6167c8",
   "metadata": {},
   "outputs": [
    {
     "name": "stdout",
     "output_type": "stream",
     "text": [
      "[PhysicalDevice(name='/physical_device:GPU:0', device_type='GPU')]\n"
     ]
    }
   ],
   "source": [
    "import tensorflow as tf\n",
    "gpus = tf.config.experimental.list_physical_devices(\"GPU\")\n",
    "print(gpus)\n",
    "import numpy as np\n",
    "import math\n",
    "import pandas\n",
    "from matplotlib import pyplot as plt\n",
    "from PIL import Image\n",
    "import os"
   ]
  },
  {
   "cell_type": "code",
   "execution_count": 2,
   "id": "fb6293b3-9505-43da-ab25-28233d73e4cf",
   "metadata": {},
   "outputs": [
    {
     "name": "stdout",
     "output_type": "stream",
     "text": [
      "imageGenKnight/0128.png\n"
     ]
    }
   ],
   "source": [
    "def GetImageAdress(input_number, additionalString = \"\"):\n",
    "    return \"imageGenKnight/\" + additionalString + str(input_number).zfill(4) + \".png\"\n",
    "print(GetImageAdress(128, \"\"))\n",
    "\n",
    "def GetImage(image_number,  additionalString = \"\" ):\n",
    "    adress = GetImageAdress(image_number,  additionalString)\n",
    "    image = Image.open(adress)\n",
    "    image = np.array(image)\n",
    "    image = image / 255\n",
    "    image = image.astype('float32')\n",
    "    return image\n",
    "\n"
   ]
  },
  {
   "cell_type": "code",
   "execution_count": 3,
   "id": "46e8d172-e7be-4af8-b746-96ec89b3e26a",
   "metadata": {},
   "outputs": [],
   "source": [
    "all_albedos = list()\n",
    "all_normals = list()\n",
    "all_masks = list()\n",
    "# answers start at 4775, end at 4799\n",
    "answerHeadRotation = open(\"ImageGenKnight\\ImageAnswers.txt\", \"r\").read()\n",
    "answerHeadRotation = answerHeadRotation.replace('Knight', '')\n",
    "answerHeadRotation = answerHeadRotation.split(\"ANSWER\")\n",
    "answerHeadRotation.pop()\n",
    "for pictire in range( len(answerHeadRotation)):\n",
    "    numnum = 4775 + pictire\n",
    "    all_albedos.append(GetImage(numnum, \"albedo\"))\n",
    "    all_normals.append(GetImage(numnum, \"normal\"))\n",
    "    all_masks.append(GetImage(numnum, \"mask\"))\n",
    "np.save('KnightRotationDegrees.npy', np.array(answerHeadRotation))\n",
    "np.save('KnightAlbedos.npy', np.array(all_albedos))\n",
    "np.save('KnightNormals.npy', np.array(all_normals))\n",
    "np.save('KnightMasks.npy', np.array(all_masks))"
   ]
  },
  {
   "cell_type": "code",
   "execution_count": 4,
   "id": "7adba467-2c6f-49c3-83ef-53900b2b82ab",
   "metadata": {},
   "outputs": [],
   "source": [
    "answerHeadRotation = open(\"ImageGenKnight\\ImageData.txt\", \"r\").read()\n",
    "answerHeadRotation = answerHeadRotation.split(\"Knight\")\n",
    "answerHeadRotation.pop(0)\n",
    "\n",
    "all_labels = list()\n",
    "all_vectors = list()\n",
    "for dd in range(len(answerHeadRotation)):\n",
    "    splitty = answerHeadRotation[dd].split(\"VectorXYZ\")\n",
    "    all_labels.append(splitty[0])\n",
    "    vector = splitty[1].split(\"_\")\n",
    "    all_vectors.append(np.array(vector).astype(\"float16\"))\n",
    "np.save('KnightLabels.npy', np.array(all_labels))\n",
    "np.save('KnightVectors.npy', np.array(all_vectors))    "
   ]
  },
  {
   "cell_type": "code",
   "execution_count": 5,
   "id": "c5bbf505-e549-4f43-b670-1a6ba6de6abb",
   "metadata": {},
   "outputs": [],
   "source": [
    "all_photos = list()\n",
    "for pictire in range( len(answerHeadRotation)):\n",
    "    all_photos.append(GetImage(pictire, \"\"))\n",
    "all_photos_array = np.array(all_photos)\n",
    "np.save('KnightPhotos.npy', np.array(all_photos_array))"
   ]
  },
  {
   "cell_type": "code",
   "execution_count": null,
   "id": "238127fe-83d4-4327-bf94-2ca3997d334b",
   "metadata": {},
   "outputs": [],
   "source": []
  }
 ],
 "metadata": {
  "kernelspec": {
   "display_name": "gpu",
   "language": "python",
   "name": "myenv"
  },
  "language_info": {
   "codemirror_mode": {
    "name": "ipython",
    "version": 3
   },
   "file_extension": ".py",
   "mimetype": "text/x-python",
   "name": "python",
   "nbconvert_exporter": "python",
   "pygments_lexer": "ipython3",
   "version": "3.9.20"
  }
 },
 "nbformat": 4,
 "nbformat_minor": 5
}
