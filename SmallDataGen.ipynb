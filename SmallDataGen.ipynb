{
 "cells": [
  {
   "cell_type": "code",
   "execution_count": 2,
   "id": "1c8e13ed-3974-44cc-9e8d-0c6bee2a8a81",
   "metadata": {},
   "outputs": [
    {
     "name": "stdout",
     "output_type": "stream",
     "text": [
      "[PhysicalDevice(name='/physical_device:GPU:0', device_type='GPU')]\n"
     ]
    }
   ],
   "source": [
    "import tensorflow as tf\n",
    "from tensorflow import keras\n",
    "import tensorflow_datasets as tfds\n",
    "gpus = tf.config.experimental.list_physical_devices(\"GPU\")\n",
    "print(gpus)\n",
    "import numpy as np\n",
    "import math\n",
    "import pandas\n",
    "from matplotlib import pyplot as plt\n",
    "from PIL import Image\n",
    "import os\n"
   ]
  },
  {
   "cell_type": "code",
   "execution_count": 8,
   "id": "dfcdf0bd-cf3e-445e-968e-7ab27dceb2ab",
   "metadata": {},
   "outputs": [],
   "source": [
    "locloc = \"BigData\" \n",
    "namename = \"\\TestBigPastel\"\n",
    "all_photos = np.load(locloc + namename + 'Photos.npy')\n",
    "all_normals = np.load(locloc + namename + 'Normals.npy')\n",
    "all_albedos = np.load(locloc + namename + 'Albedos.npy')\n",
    "all_masks = np.load(locloc + namename + 'Masks.npy')\n",
    "all_vectors  = np.load(locloc + namename + 'Vectors.npy')"
   ]
  },
  {
   "cell_type": "code",
   "execution_count": 9,
   "id": "0b8aab37-0a5b-42c1-bcb7-637af4499630",
   "metadata": {},
   "outputs": [],
   "source": [
    "small_photos = all_photos[0:1024]\n",
    "small_normals = all_normals[0:1024]\n",
    "small_albedos = all_albedos[0:1024]\n",
    "small_masks = all_masks[0:1024]\n",
    "small_vectors = all_vectors[0:1024]\n",
    "np.save(\"SmallData//small_photos.npy\" , small_photos)\n",
    "np.save(\"SmallData//small_normals.npy\", small_normals )\n",
    "np.save(\"SmallData//small_albedos.npy\" , small_albedos)\n",
    "np.save(\"SmallData//small_masks.npy\", small_masks )\n",
    "np.save( \"SmallData//small_vectors.npy\", small_vectors )"
   ]
  },
  {
   "cell_type": "code",
   "execution_count": 10,
   "id": "6d1dcd47-0723-44be-8ee0-a4c044b874b0",
   "metadata": {},
   "outputs": [
    {
     "name": "stdout",
     "output_type": "stream",
     "text": [
      "(1024, 3)\n"
     ]
    }
   ],
   "source": [
    "print(small_vectors.shape)"
   ]
  },
  {
   "cell_type": "code",
   "execution_count": null,
   "id": "134beb73-73e8-47d7-9a46-b9aad5a6bf86",
   "metadata": {},
   "outputs": [],
   "source": []
  }
 ],
 "metadata": {
  "kernelspec": {
   "display_name": "gpu",
   "language": "python",
   "name": "myenv"
  },
  "language_info": {
   "codemirror_mode": {
    "name": "ipython",
    "version": 3
   },
   "file_extension": ".py",
   "mimetype": "text/x-python",
   "name": "python",
   "nbconvert_exporter": "python",
   "pygments_lexer": "ipython3",
   "version": "3.9.20"
  }
 },
 "nbformat": 4,
 "nbformat_minor": 5
}
