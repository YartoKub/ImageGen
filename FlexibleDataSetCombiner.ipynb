{
 "cells": [
  {
   "cell_type": "code",
   "execution_count": 5,
   "id": "5c6c6a89-96ac-4d19-a598-a067d47ca812",
   "metadata": {},
   "outputs": [],
   "source": [
    "# Цели этого документа:\n",
    "# Возможность перечислить готовые отдельные наборы изображений\n",
    "# Объединить эти изображения в супер датасет\n",
    "# Возможность перемешать этот датасет\n",
    "# Возможность разбить супер датасет на кучу мулепусеньких датасетиков которые могут поместиться в мои 16 гб оперативной памяти\n",
    "# Эта штука валидна только для генерации датасетов из картинок, векторы и вращения мне не нужны"
   ]
  },
  {
   "cell_type": "code",
   "execution_count": 6,
   "id": "61fd0c26-22b3-40fe-bf34-d1cf633d231f",
   "metadata": {},
   "outputs": [],
   "source": [
    "import numpy as np\n",
    "import math\n",
    "import pandas\n",
    "from matplotlib import pyplot as plt\n",
    "from PIL import Image\n",
    "import os"
   ]
  },
  {
   "cell_type": "code",
   "execution_count": 7,
   "id": "9845023f-21a6-4ab3-ad59-4bb9e0709add",
   "metadata": {},
   "outputs": [],
   "source": [
    "save_path = \"\\CombinedDatasets\"; save_name = \"\\Part\"; "
   ]
  },
  {
   "cell_type": "code",
   "execution_count": 8,
   "id": "83964765-093d-4702-9526-47b693a71d9c",
   "metadata": {},
   "outputs": [],
   "source": [
    "shared_folder = \"BigDataCubes\"\n",
    "dataset_list = [\"\\Pringle\", \"\\Donut\", \"\\Rubic\"]\n",
    "photos_string = 'Photos.npy'; labels_string = 'Labels.npy'\n",
    "vectors_string = 'Vectors.npy'; #rotations_string = 'RotationDegrees.npy' Это не нужно, оно говорит как повернут объект\n",
    "albedos_string = 'Albedos.npy'; normals_string = 'Normals.npy'\n",
    "masks_string = 'Masks.npy'; depth_string = 'Depth.npy'\n",
    "fragment_length = 5700\n",
    "small_fragment_length = 100\n",
    "number_of_splits = 5"
   ]
  },
  {
   "cell_type": "code",
   "execution_count": 9,
   "id": "38db8230-9d73-4ce5-967c-84b70da9b83d",
   "metadata": {},
   "outputs": [],
   "source": [
    "def get_extras_id(index):\n",
    "    return index // (fragment_length // small_fragment_length)"
   ]
  },
  {
   "cell_type": "code",
   "execution_count": 10,
   "id": "05f60ba7-dea7-46d7-9aa3-11f885b6d0b6",
   "metadata": {},
   "outputs": [],
   "source": [
    "def get_start_and_end_points(number_of_cuts, total_length):\n",
    "    break_points = []\n",
    "    start_point = 0\n",
    "    fraction = total_length / number_of_cuts\n",
    "    for i in range(1, number_of_cuts + 1):\n",
    "        rounded = round(fraction * i) \n",
    "        break_points.append((start_point, rounded))\n",
    "        start_point = rounded\n",
    "    return break_points"
   ]
  },
  {
   "cell_type": "code",
   "execution_count": 11,
   "id": "ad698941-1b41-4eb1-864f-3f9fc0c8be06",
   "metadata": {},
   "outputs": [
    {
     "name": "stdout",
     "output_type": "stream",
     "text": [
      "BigDataCubes\\Pringle\\PringlePhotos.npy\n"
     ]
    }
   ],
   "source": [
    "print(shared_folder + dataset_list[0] + dataset_list[0] + photos_string)"
   ]
  },
  {
   "cell_type": "code",
   "execution_count": 12,
   "id": "83afe3ec-31f1-4d25-8447-b878a524402d",
   "metadata": {},
   "outputs": [
    {
     "name": "stdout",
     "output_type": "stream",
     "text": [
      "{'\\\\Pringle': array([3887,  989, 1079, ..., 1461,  932,  997]), '\\\\Donut': array([4846, 3102, 3475, ..., 4844,  815,  881]), '\\\\Rubic': array([2032, 5240, 1901, ..., 4633, 2134, 1530])}\n"
     ]
    }
   ],
   "source": [
    "# ONLY START ONCE FOR ALL GENERATIONS\n",
    "indices_list = {}\n",
    "for i in range(len(dataset_list)):\n",
    "    name = dataset_list[i]\n",
    "    indices = np.arange(fragment_length)\n",
    "    np.random.shuffle(indices)\n",
    "    indices_list[name] = (indices)\n",
    "print(indices_list)"
   ]
  },
  {
   "cell_type": "code",
   "execution_count": 13,
   "id": "663da978-c0dc-4ab1-b13c-1a28d4be21b6",
   "metadata": {},
   "outputs": [
    {
     "name": "stdout",
     "output_type": "stream",
     "text": [
      "[array([ 454, 2381, 1463, ..., 1989, 2655, 2092]), array([1934, 3332,  575, ..., 2291, 2618,  227]), array([1316, 3354, 2321, ..., 2359, 1363, 2988]), array([2012, 1086, 3355, ..., 1511, 3241, 2204]), array([1014, 2241, 3213, ..., 1133, 1610, 3044])]\n"
     ]
    }
   ],
   "source": [
    "# ONLY START ONCE FOR ALL GENERATIONS\n",
    "internal_indicies = []\n",
    "for i in range(number_of_splits):\n",
    "    start_index, end_index = get_start_and_end_points(number_of_splits, fragment_length)[i]\n",
    "    length = end_index - start_index\n",
    "    inner_indicies_length = length * len(dataset_list)\n",
    "    inner_indicies = np.arange(inner_indicies_length)\n",
    "    np.random.shuffle(inner_indicies)\n",
    "    internal_indicies.append(inner_indicies)\n",
    "print(internal_indicies)"
   ]
  },
  {
   "cell_type": "code",
   "execution_count": 14,
   "id": "f931af79-b5f3-49b0-9e5f-ca9359796764",
   "metadata": {},
   "outputs": [],
   "source": [
    "def the_super_function(name_string, short_list = False):\n",
    "    for i in range(number_of_splits):\n",
    "        start_index, end_index = get_start_and_end_points(number_of_splits, fragment_length)[i]\n",
    "        print(\"__NEW__ITERATION__\", start_index, end_index)\n",
    "        length = end_index - start_index\n",
    "        final_dataset = np.zeros((length * len(dataset_list), 64,64, 3))\n",
    "        for name_index in range(len(dataset_list)):\n",
    "            name = dataset_list[name_index]\n",
    "            print(name)\n",
    "            local_indices = indices_list[name][start_index : end_index]\n",
    "            current_dataset = np.load(shared_folder + name + name + name_string)\n",
    "            if short_list:\n",
    "                for x in range(len(local_indices)):\n",
    "                    final_dataset[name_index * length + x] = current_dataset[get_extras_id(local_indices[x])]\n",
    "            else:\n",
    "                final_dataset[name_index * length : (name_index + 1) * length] = current_dataset[local_indices]\n",
    "        final_dataset = final_dataset.astype(\"float16\")\n",
    "        final_dataset = final_dataset[internal_indicies[i]]\n",
    "        print(\"saved\")\n",
    "        np.save(shared_folder + save_path + save_name + str(i) + name_string, final_dataset)\n",
    "        "
   ]
  },
  {
   "cell_type": "code",
   "execution_count": 15,
   "id": "5cdbc919-83b9-4477-9800-8d92c2d63a29",
   "metadata": {},
   "outputs": [],
   "source": [
    "def the_super_function_vectors(name_string, short_list = False):\n",
    "    for i in range(number_of_splits):\n",
    "        start_index, end_index = get_start_and_end_points(number_of_splits, fragment_length)[i]\n",
    "        print(\"__NEW__ITERATION__\", start_index, end_index)\n",
    "        length = end_index - start_index\n",
    "        final_dataset = np.zeros((length * len(dataset_list), 3))\n",
    "        for name_index in range(len(dataset_list)):\n",
    "            name = dataset_list[name_index]\n",
    "            print(name)\n",
    "            local_indices = indices_list[name][start_index : end_index]\n",
    "            current_dataset = np.load(shared_folder + name + name + name_string)\n",
    "            if short_list:\n",
    "                for x in range(len(local_indices)):\n",
    "                    final_dataset[name_index * length + x] = current_dataset[get_extras_id(local_indices[x])]\n",
    "            else:\n",
    "                final_dataset[name_index * length : (name_index + 1) * length] = current_dataset[local_indices]\n",
    "        final_dataset = final_dataset.astype(\"float16\")\n",
    "        final_dataset = final_dataset[internal_indicies[i]]\n",
    "        print(\"saved\")\n",
    "        np.save(shared_folder + save_path + save_name + str(i) + name_string, final_dataset)\n",
    "        "
   ]
  },
  {
   "cell_type": "code",
   "execution_count": 16,
   "id": "04571c25-f293-4b4f-b305-b35cab9ba2f3",
   "metadata": {},
   "outputs": [
    {
     "name": "stdout",
     "output_type": "stream",
     "text": [
      "__NEW__ITERATION__ 0 1140\n",
      "\\Pringle\n",
      "\\Donut\n",
      "\\Rubic\n",
      "saved\n",
      "__NEW__ITERATION__ 1140 2280\n",
      "\\Pringle\n",
      "\\Donut\n",
      "\\Rubic\n",
      "saved\n",
      "__NEW__ITERATION__ 2280 3420\n",
      "\\Pringle\n",
      "\\Donut\n",
      "\\Rubic\n",
      "saved\n",
      "__NEW__ITERATION__ 3420 4560\n",
      "\\Pringle\n",
      "\\Donut\n",
      "\\Rubic\n",
      "saved\n",
      "__NEW__ITERATION__ 4560 5700\n",
      "\\Pringle\n",
      "\\Donut\n",
      "\\Rubic\n",
      "saved\n"
     ]
    }
   ],
   "source": [
    "the_super_function_vectors(vectors_string, short_list=True)"
   ]
  },
  {
   "cell_type": "code",
   "execution_count": 17,
   "id": "96015668-45b0-4dcd-ada5-fde5ecbcfd87",
   "metadata": {},
   "outputs": [
    {
     "name": "stdout",
     "output_type": "stream",
     "text": [
      "__NEW__ITERATION__ 0 1140\n",
      "\\Pringle\n",
      "\\Donut\n",
      "\\Rubic\n",
      "saved\n",
      "__NEW__ITERATION__ 1140 2280\n",
      "\\Pringle\n",
      "\\Donut\n",
      "\\Rubic\n",
      "saved\n",
      "__NEW__ITERATION__ 2280 3420\n",
      "\\Pringle\n",
      "\\Donut\n",
      "\\Rubic\n",
      "saved\n",
      "__NEW__ITERATION__ 3420 4560\n",
      "\\Pringle\n",
      "\\Donut\n",
      "\\Rubic\n",
      "saved\n",
      "__NEW__ITERATION__ 4560 5700\n",
      "\\Pringle\n",
      "\\Donut\n",
      "\\Rubic\n",
      "saved\n"
     ]
    }
   ],
   "source": [
    "the_super_function(normals_string, short_list=True)"
   ]
  },
  {
   "cell_type": "code",
   "execution_count": 18,
   "id": "6cb41bd2-5946-4d98-894b-feded5966949",
   "metadata": {},
   "outputs": [
    {
     "name": "stdout",
     "output_type": "stream",
     "text": [
      "__NEW__ITERATION__ 0 1140\n",
      "\\Pringle\n",
      "\\Donut\n",
      "\\Rubic\n",
      "saved\n",
      "__NEW__ITERATION__ 1140 2280\n",
      "\\Pringle\n",
      "\\Donut\n",
      "\\Rubic\n",
      "saved\n",
      "__NEW__ITERATION__ 2280 3420\n",
      "\\Pringle\n",
      "\\Donut\n",
      "\\Rubic\n",
      "saved\n",
      "__NEW__ITERATION__ 3420 4560\n",
      "\\Pringle\n",
      "\\Donut\n",
      "\\Rubic\n",
      "saved\n",
      "__NEW__ITERATION__ 4560 5700\n",
      "\\Pringle\n",
      "\\Donut\n",
      "\\Rubic\n",
      "saved\n"
     ]
    }
   ],
   "source": [
    "the_super_function(masks_string, short_list=True)"
   ]
  },
  {
   "cell_type": "code",
   "execution_count": 19,
   "id": "9865ba34-5372-47ca-a35d-f2078781b1fa",
   "metadata": {},
   "outputs": [
    {
     "name": "stdout",
     "output_type": "stream",
     "text": [
      "__NEW__ITERATION__ 0 1140\n",
      "\\Pringle\n",
      "\\Donut\n",
      "\\Rubic\n",
      "saved\n",
      "__NEW__ITERATION__ 1140 2280\n",
      "\\Pringle\n",
      "\\Donut\n",
      "\\Rubic\n",
      "saved\n",
      "__NEW__ITERATION__ 2280 3420\n",
      "\\Pringle\n",
      "\\Donut\n",
      "\\Rubic\n",
      "saved\n",
      "__NEW__ITERATION__ 3420 4560\n",
      "\\Pringle\n",
      "\\Donut\n",
      "\\Rubic\n",
      "saved\n",
      "__NEW__ITERATION__ 4560 5700\n",
      "\\Pringle\n",
      "\\Donut\n",
      "\\Rubic\n",
      "saved\n"
     ]
    }
   ],
   "source": [
    "the_super_function(albedos_string, short_list=True)"
   ]
  },
  {
   "cell_type": "code",
   "execution_count": 20,
   "id": "32d4b7a4-39cc-4408-95c2-f2c71ec15f3b",
   "metadata": {},
   "outputs": [
    {
     "name": "stdout",
     "output_type": "stream",
     "text": [
      "__NEW__ITERATION__ 0 1140\n",
      "\\Pringle\n",
      "\\Donut\n",
      "\\Rubic\n",
      "saved\n",
      "__NEW__ITERATION__ 1140 2280\n",
      "\\Pringle\n",
      "\\Donut\n",
      "\\Rubic\n",
      "saved\n",
      "__NEW__ITERATION__ 2280 3420\n",
      "\\Pringle\n",
      "\\Donut\n",
      "\\Rubic\n",
      "saved\n",
      "__NEW__ITERATION__ 3420 4560\n",
      "\\Pringle\n",
      "\\Donut\n",
      "\\Rubic\n",
      "saved\n",
      "__NEW__ITERATION__ 4560 5700\n",
      "\\Pringle\n",
      "\\Donut\n",
      "\\Rubic\n",
      "saved\n"
     ]
    }
   ],
   "source": [
    "the_super_function(photos_string, short_list=False)"
   ]
  },
  {
   "cell_type": "code",
   "execution_count": 24,
   "id": "97d9358b-db25-4cb9-bcb3-31212fdd711a",
   "metadata": {},
   "outputs": [
    {
     "name": "stdout",
     "output_type": "stream",
     "text": [
      "__NEW__ITERATION__ 0 1140\n",
      "\\Pringle\n",
      "\\Donut\n",
      "\\Rubic\n",
      "saved\n",
      "__NEW__ITERATION__ 1140 2280\n",
      "\\Pringle\n",
      "\\Donut\n",
      "\\Rubic\n",
      "saved\n",
      "__NEW__ITERATION__ 2280 3420\n",
      "\\Pringle\n",
      "\\Donut\n",
      "\\Rubic\n",
      "saved\n",
      "__NEW__ITERATION__ 3420 4560\n",
      "\\Pringle\n",
      "\\Donut\n",
      "\\Rubic\n",
      "saved\n",
      "__NEW__ITERATION__ 4560 5700\n",
      "\\Pringle\n",
      "\\Donut\n",
      "\\Rubic\n",
      "saved\n"
     ]
    }
   ],
   "source": [
    "the_super_function(depth_string, short_list=True)"
   ]
  },
  {
   "cell_type": "code",
   "execution_count": 27,
   "id": "e2c48961-a711-446a-830c-7c1d76633372",
   "metadata": {},
   "outputs": [
    {
     "name": "stdout",
     "output_type": "stream",
     "text": [
      "2765 48\n",
      "[0.011 0.799 0.602]\n"
     ]
    },
    {
     "data": {
      "image/png": "[encoded data removed]",
      "text/plain": [
       "<Figure size 640x480 with 1 Axes>"
      ]
     },
     "metadata": {},
     "output_type": "display_data"
    }
   ],
   "source": [
    "wanted_id = 10;\n",
    "print(indices_list[\"\\\\Donut\"][wanted_id], get_extras_id(indices_list[\"\\\\Donut\"][wanted_id]))\n",
    "photos1 = np.load(shared_folder + save_path + save_name + str(0) + photos_string);\n",
    "photo = photos1[wanted_id]; \n",
    "photos1 = np.load(shared_folder + save_path + save_name + str(0) + normals_string);\n",
    "normal =  photos1[wanted_id]; \n",
    "photos1 = np.load(shared_folder + save_path + save_name + str(0) + masks_string);\n",
    "mask =  photos1[wanted_id]; \n",
    "photos1 = np.load(shared_folder + save_path + save_name + str(0) + albedos_string);\n",
    "albedo =  photos1[wanted_id]; \n",
    "photos1 = np.load(shared_folder + save_path + save_name + str(0) + depth_string);\n",
    "depth =  photos1[wanted_id]; \n",
    "vectors1 = np.load(shared_folder + save_path + save_name + str(0) + vectors_string);\n",
    "print(vectors1[wanted_id])\n",
    "combined = np.concatenate([photo, albedo, normal, depth, mask], axis = 1).astype(\"float32\")\n",
    "plt.imshow(combined); del photos1"
   ]
  },
  {
   "cell_type": "code",
   "execution_count": null,
   "id": "8ccfc8c4-e09f-4c8d-a06f-0f12c4f00924",
   "metadata": {},
   "outputs": [],
   "source": []
  }
 ],
 "metadata": {
  "kernelspec": {
   "display_name": "gpu",
   "language": "python",
   "name": "myenv"
  },
  "language_info": {
   "codemirror_mode": {
    "name": "ipython",
    "version": 3
   },
   "file_extension": ".py",
   "mimetype": "text/x-python",
   "name": "python",
   "nbconvert_exporter": "python",
   "pygments_lexer": "ipython3",
   "version": "3.9.20"
  }
 },
 "nbformat": 4,
 "nbformat_minor": 5
}
