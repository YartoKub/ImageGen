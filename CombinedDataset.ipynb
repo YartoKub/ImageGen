{
 "cells": [
  {
   "cell_type": "code",
   "execution_count": 1,
   "id": "6308b904-97c7-4243-b9a1-09241fcfffee",
   "metadata": {},
   "outputs": [
    {
     "name": "stdout",
     "output_type": "stream",
     "text": [
      "[PhysicalDevice(name='/physical_device:GPU:0', device_type='GPU')]\n"
     ]
    }
   ],
   "source": [
    "import tensorflow as tf\n",
    "from tensorflow import keras\n",
    "import tensorflow_datasets as tfds\n",
    "gpus = tf.config.experimental.list_physical_devices(\"GPU\")\n",
    "print(gpus)\n",
    "import numpy as np\n",
    "import math\n",
    "import pandas\n",
    "from matplotlib import pyplot as plt\n",
    "from PIL import Image\n",
    "import os\n"
   ]
  },
  {
   "cell_type": "code",
   "execution_count": 2,
   "id": "8bcabc88-2a4d-48c0-8b4e-867ec17778c2",
   "metadata": {},
   "outputs": [],
   "source": [
    "locloc = \"PreparedNp\" \n",
    "namename = \"\\PastelRubic\"\n",
    "all_photos1 = np.load(locloc + namename + 'Photos.npy')\n",
    "all_labels1 = np.load(locloc + namename + 'Labels.npy') # Эта штука соответствует одному из значений в all_degrees, котрое соответствует некой маске\n",
    "all_vectors1 = np.load(locloc + namename + 'Vectors.npy')\n",
    "all_degrees1 = np.load(locloc + namename + 'RotationDegrees.npy')\n",
    "all_albedos1 = np.load(locloc + namename + 'Albedos.npy')\n",
    "all_normals1 = np.load(locloc + namename + 'Normals.npy')\n",
    "all_masks1 = np.load(locloc + namename + 'Masks.npy')"
   ]
  },
  {
   "cell_type": "code",
   "execution_count": 3,
   "id": "b979345f-e383-4259-b9e9-6755c24cc9ce",
   "metadata": {},
   "outputs": [],
   "source": [
    "locloc = \"pred_EEVEE_pastel_pringle\" \n",
    "namename = \"\\Pringle\"\n",
    "all_photos2 = np.load(locloc + namename + 'Photos.npy')\n",
    "all_labels2 = np.load(locloc + namename + 'Labels.npy') # Эта штука соответствует одному из значений в all_degrees, котрое соответствует некой маске\n",
    "all_vectors2 = np.load(locloc + namename + 'Vectors.npy')\n",
    "all_degrees2 = np.load(locloc + namename + 'RotationDegrees.npy')\n",
    "all_albedos2 = np.load(locloc + namename + 'Albedos.npy')\n",
    "all_normals2 = np.load(locloc + namename + 'Normals.npy')\n",
    "all_masks2 = np.load(locloc + namename + 'Masks.npy')"
   ]
  },
  {
   "cell_type": "code",
   "execution_count": 4,
   "id": "c03a2c8e-9fa8-4a28-aea1-12c10cbc68aa",
   "metadata": {},
   "outputs": [],
   "source": [
    "locloc = \"pred_EEVEE_pastel_donut\" \n",
    "namename = \"\\Donut\"\n",
    "all_photos3 = np.load(locloc + namename + 'Photos.npy')\n",
    "all_labels3 = np.load(locloc + namename + 'Labels.npy') # Эта штука соответствует одному из значений в all_degrees, котрое соответствует некой маске\n",
    "all_vectors3 = np.load(locloc + namename + 'Vectors.npy')\n",
    "all_degrees3 = np.load(locloc + namename + 'RotationDegrees.npy')\n",
    "all_albedos3 = np.load(locloc + namename + 'Albedos.npy')\n",
    "all_normals3 = np.load(locloc + namename + 'Normals.npy')\n",
    "all_masks3 = np.load(locloc + namename + 'Masks.npy')"
   ]
  },
  {
   "cell_type": "code",
   "execution_count": 5,
   "id": "7828cc29-3aec-499c-8476-9f889f929c79",
   "metadata": {},
   "outputs": [],
   "source": [
    "super_photos = np.concatenate([all_photos1,all_photos2,all_photos3], axis = 0)\n",
    "super_labels = np.concatenate([all_labels1,all_labels2,all_labels3], axis = 0)\n",
    "super_vectors= np.concatenate([all_vectors1,all_vectors2,all_vectors3], axis = 0)\n",
    "super_degrees= np.concatenate([all_degrees1,all_degrees2,all_degrees3], axis = 0)\n",
    "super_albedos= np.concatenate([all_albedos1,all_albedos2,all_albedos3], axis = 0)\n",
    "super_normals= np.concatenate([all_normals1,all_normals2,all_normals3], axis = 0)\n",
    "super_masks  = np.concatenate([all_masks1,all_masks2,all_masks3], axis = 0)"
   ]
  },
  {
   "cell_type": "code",
   "execution_count": 6,
   "id": "6081a7f8-a8fe-42d2-8bcb-0ba7504275be",
   "metadata": {},
   "outputs": [],
   "source": [
    "del all_photos1; del all_photos2; del all_photos3;\n",
    "del all_labels1; del all_labels2; del all_labels3;\n",
    "del all_vectors1; del all_vectors2; del all_vectors3;\n",
    "del all_degrees1; del all_degrees2; del all_degrees3;\n",
    "del all_albedos1; del all_albedos2; del all_albedos3;\n",
    "del all_normals1; del all_normals2; del all_normals3;\n",
    "del all_masks1; del all_masks2; del all_masks3;"
   ]
  },
  {
   "cell_type": "code",
   "execution_count": 9,
   "id": "ba884875-e76c-450a-b908-a49199b9bc46",
   "metadata": {},
   "outputs": [
    {
     "data": {
      "text/plain": [
       "<matplotlib.image.AxesImage at 0x168dda0db50>"
      ]
     },
     "execution_count": 9,
     "metadata": {},
     "output_type": "execute_result"
    },
    {
     "data": {
      "image/png": "[encoded data removed]",
      "text/plain": [
       "<Figure size 640x480 with 1 Axes>"
      ]
     },
     "metadata": {},
     "output_type": "display_data"
    }
   ],
   "source": [
    "plt.imshow(super_albedos[50].astype('float32'))"
   ]
  },
  {
   "cell_type": "code",
   "execution_count": 11,
   "id": "77d8bc18-fce2-4836-bdcd-2162e99c9c76",
   "metadata": {},
   "outputs": [
    {
     "name": "stdout",
     "output_type": "stream",
     "text": [
      "17100\n",
      "17100\n",
      "17100\n",
      "(300,)\n",
      "(300, 64, 64, 3)\n",
      "(300, 64, 64, 3)\n",
      "(300, 64, 64, 3)\n"
     ]
    }
   ],
   "source": [
    "totalLen = len(super_photos)\n",
    "lightjumps = 57\n",
    "print(len(super_photos))\n",
    "print(len(super_labels))\n",
    "print(len(super_vectors))\n",
    "print(super_degrees.shape)\n",
    "print(super_albedos.shape)\n",
    "print(super_normals.shape)\n",
    "print(super_masks.shape)"
   ]
  },
  {
   "cell_type": "code",
   "execution_count": 12,
   "id": "fddcd0b0-80dc-4ec4-91af-3a18947b1164",
   "metadata": {},
   "outputs": [],
   "source": [
    "super_degrees_long = np.zeros((totalLen,)).astype('S')\n",
    "super_albedos_long = np.zeros((totalLen, 64, 64, 3))\n",
    "super_normals_long = np.zeros((totalLen, 64, 64, 3))\n",
    "super_masks_long = np.zeros((totalLen, 64, 64, 3))"
   ]
  },
  {
   "cell_type": "code",
   "execution_count": 13,
   "id": "7738c793-f1a3-4bc3-9ce9-73f0a4a89ee1",
   "metadata": {},
   "outputs": [],
   "source": [
    "for i in range(totalLen):\n",
    "    super_degrees_long[i] = super_degrees[i // lightjumps]\n",
    "    super_albedos_long[i] = super_albedos[i // lightjumps]\n",
    "    super_normals_long[i] = super_normals[i // lightjumps]\n",
    "    super_masks_long[i] = super_masks[i // lightjumps]"
   ]
  },
  {
   "cell_type": "code",
   "execution_count": 14,
   "id": "4ed8f9e9-c41e-4ab1-8d85-f7c63dce7709",
   "metadata": {},
   "outputs": [],
   "source": [
    "del super_degrees; del super_albedos; del super_normals; del super_masks;"
   ]
  },
  {
   "cell_type": "code",
   "execution_count": 15,
   "id": "925819a5-6957-4c91-93af-c9283931fb06",
   "metadata": {},
   "outputs": [
    {
     "name": "stdout",
     "output_type": "stream",
     "text": [
      "(17100, 64, 64, 3)\n"
     ]
    },
    {
     "data": {
      "text/plain": [
       "<matplotlib.image.AxesImage at 0x168ddc58880>"
      ]
     },
     "execution_count": 15,
     "metadata": {},
     "output_type": "execute_result"
    },
    {
     "data": {
      "image/png": "[encoded data removed]",
      "text/plain": [
       "<Figure size 640x480 with 1 Axes>"
      ]
     },
     "metadata": {},
     "output_type": "display_data"
    }
   ],
   "source": [
    "print(super_normals_long.shape)\n",
    "plt.imshow(super_normals_long[250].astype('float32'))"
   ]
  },
  {
   "cell_type": "code",
   "execution_count": 16,
   "id": "ca5b38d1-fa19-46db-9b02-1388c9e4edf3",
   "metadata": {},
   "outputs": [
    {
     "name": "stdout",
     "output_type": "stream",
     "text": [
      "[    0     1     2 ... 17097 17098 17099]\n"
     ]
    }
   ],
   "source": [
    "indices = np.arange(totalLen)\n",
    "print(indices)"
   ]
  },
  {
   "cell_type": "code",
   "execution_count": 17,
   "id": "6e2cdc22-063f-4840-a1dd-e072f2fa541c",
   "metadata": {},
   "outputs": [
    {
     "name": "stdout",
     "output_type": "stream",
     "text": [
      "[ 2632 15334  8945 ... 16764  7513 16374]\n"
     ]
    }
   ],
   "source": [
    "np.random.shuffle(indices)\n",
    "print(indices)"
   ]
  },
  {
   "cell_type": "code",
   "execution_count": 18,
   "id": "a98d3ebf-4750-4f3e-a27e-883b344cc3a1",
   "metadata": {},
   "outputs": [
    {
     "name": "stdout",
     "output_type": "stream",
     "text": [
      "10260 6840\n"
     ]
    }
   ],
   "source": [
    "test_ratio = 0.4\n",
    "train_idx = (int)(totalLen * (1 - test_ratio))\n",
    "test_idx = totalLen - train_idx\n",
    "print(train_idx, test_idx)"
   ]
  },
  {
   "cell_type": "code",
   "execution_count": 19,
   "id": "b0198e17-58db-4a62-8956-19881803f44a",
   "metadata": {},
   "outputs": [],
   "source": [
    "indices_test = indices[train_idx:totalLen]\n",
    "indices = indices[0:train_idx]"
   ]
  },
  {
   "cell_type": "code",
   "execution_count": 20,
   "id": "49eabe1e-6331-49c0-a632-955292931e65",
   "metadata": {},
   "outputs": [],
   "source": [
    "save_folder_name = \"BigData\"\n",
    "test_save_name = \"TestBigPastel\"\n",
    "train_save_name= \"TrainBigPastel\""
   ]
  },
  {
   "cell_type": "code",
   "execution_count": 21,
   "id": "3d545b94-2f64-40dd-a560-9ceeaaf58078",
   "metadata": {},
   "outputs": [],
   "source": [
    "test_photos = super_photos[indices_test]\n",
    "train_photos = super_photos[indices]\n",
    "np.save(save_folder_name + \"\\\\\" + test_save_name + \"Photos.npy\", test_photos)\n",
    "np.save(save_folder_name + \"\\\\\" + train_save_name + \"Photos.npy\", train_photos)\n",
    "del super_photos; del test_photos; del train_photos;"
   ]
  },
  {
   "cell_type": "code",
   "execution_count": 22,
   "id": "4c82ac9c-4db1-4b3f-b82b-d0f891be46b5",
   "metadata": {},
   "outputs": [],
   "source": [
    "test_labels = super_labels[indices_test]\n",
    "train_labels = super_labels[indices]\n",
    "np.save(save_folder_name + \"\\\\\" + test_save_name + \"Labels.npy\", test_labels)\n",
    "np.save(save_folder_name + \"\\\\\" + train_save_name + \"Labels.npy\", train_labels)\n",
    "del super_labels; del test_labels; del train_labels;"
   ]
  },
  {
   "cell_type": "code",
   "execution_count": 23,
   "id": "aa60798e-1cba-473b-a55f-5e220d0c28e9",
   "metadata": {},
   "outputs": [],
   "source": [
    "test_vectors = super_vectors[indices_test]\n",
    "train_vectors = super_vectors[indices]\n",
    "np.save(save_folder_name + \"\\\\\" + test_save_name + \"Vectors.npy\", test_vectors)\n",
    "np.save(save_folder_name + \"\\\\\" + train_save_name + \"Vectors.npy\", train_vectors)\n",
    "del super_vectors; del test_vectors; del train_vectors;"
   ]
  },
  {
   "cell_type": "code",
   "execution_count": 24,
   "id": "e0b8593b-0dd0-4360-bad6-5c354aa3921a",
   "metadata": {},
   "outputs": [],
   "source": [
    "test_degrees = super_degrees_long[indices_test]\n",
    "train_degrees = super_degrees_long[indices]\n",
    "np.save(save_folder_name + \"\\\\\" + test_save_name + \"Degrees.npy\", test_degrees)\n",
    "np.save(save_folder_name + \"\\\\\" + train_save_name + \"Degrees.npy\", train_degrees)\n",
    "del super_degrees_long; del test_degrees; del train_degrees;"
   ]
  },
  {
   "cell_type": "code",
   "execution_count": 25,
   "id": "08b37075-3f40-4303-b0ef-11b9192ecf9d",
   "metadata": {},
   "outputs": [],
   "source": [
    "test_albedos = super_albedos_long[indices_test]\n",
    "train_albedos = super_albedos_long[indices]\n",
    "np.save(save_folder_name + \"\\\\\" + test_save_name + \"Albedos.npy\", test_albedos)\n",
    "np.save(save_folder_name + \"\\\\\" + train_save_name + \"Albedos.npy\", train_albedos)\n",
    "del super_albedos_long; del test_albedos; del train_albedos;"
   ]
  },
  {
   "cell_type": "code",
   "execution_count": 26,
   "id": "d7a92256-4bcf-4838-b2d3-9788336aaedf",
   "metadata": {},
   "outputs": [],
   "source": [
    "test_normals = super_normals_long[indices_test]\n",
    "train_normals = super_normals_long[indices]\n",
    "np.save(save_folder_name + \"\\\\\" + test_save_name + \"Normals.npy\", test_normals)\n",
    "np.save(save_folder_name + \"\\\\\" + train_save_name + \"Normals.npy\", train_normals)\n",
    "del super_normals_long; del test_normals; del train_normals;"
   ]
  },
  {
   "cell_type": "code",
   "execution_count": 27,
   "id": "7ff2cef4-eef0-43b6-abd6-c79c0460f577",
   "metadata": {},
   "outputs": [],
   "source": [
    "test_masks = super_masks_long[indices_test]\n",
    "train_masks = super_masks_long[indices]\n",
    "np.save(save_folder_name + \"\\\\\" + test_save_name + \"Masks.npy\", test_masks)\n",
    "np.save(save_folder_name + \"\\\\\" + train_save_name + \"Masks.npy\", train_masks)\n",
    "del super_masks_long; del test_masks; del train_masks;"
   ]
  },
  {
   "cell_type": "code",
   "execution_count": null,
   "id": "ab29a554-0f35-43fd-a853-d5e5328fa8de",
   "metadata": {},
   "outputs": [],
   "source": []
  },
  {
   "cell_type": "code",
   "execution_count": null,
   "id": "72ce4e47-340c-457f-b202-26766641d9f9",
   "metadata": {},
   "outputs": [],
   "source": []
  }
 ],
 "metadata": {
  "kernelspec": {
   "display_name": "gpu",
   "language": "python",
   "name": "myenv"
  },
  "language_info": {
   "codemirror_mode": {
    "name": "ipython",
    "version": 3
   },
   "file_extension": ".py",
   "mimetype": "text/x-python",
   "name": "python",
   "nbconvert_exporter": "python",
   "pygments_lexer": "ipython3",
   "version": "3.9.20"
  }
 },
 "nbformat": 4,
 "nbformat_minor": 5
}
