{
 "cells": [
  {
   "cell_type": "code",
   "execution_count": 1,
   "id": "d5a62fa6-c36d-4e78-9fa9-284d76ab66ee",
   "metadata": {},
   "outputs": [
    {
     "name": "stdout",
     "output_type": "stream",
     "text": [
      "[PhysicalDevice(name='/physical_device:GPU:0', device_type='GPU')]\n"
     ]
    }
   ],
   "source": [
    "import tensorflow as tf\n",
    "gpus = tf.config.experimental.list_physical_devices(\"GPU\")\n",
    "print(gpus)\n",
    "import numpy as np\n",
    "import math\n",
    "import pandas\n",
    "from matplotlib import pyplot as plt"
   ]
  },
  {
   "cell_type": "code",
   "execution_count": 2,
   "id": "0777afbb-b1af-47d9-a382-f99430c96503",
   "metadata": {},
   "outputs": [],
   "source": [
    "number_of_steps = 72\n",
    "angle_per_step = 360 / number_of_steps\n",
    "image_count = 5184"
   ]
  },
  {
   "cell_type": "code",
   "execution_count": 12,
   "id": "b388388c-4c6a-4f77-a7c5-b2245da13608",
   "metadata": {},
   "outputs": [
    {
     "name": "stdout",
     "output_type": "stream",
     "text": [
      "159 4\n"
     ]
    },
    {
     "data": {
      "text/plain": [
       "'\\ntrain_photos= all_photos[:train_size]\\ntrain_vectors = all_vectors[:train_size]\\ntest_photos = all_photos[train_size:]\\ntest_vectors = all_vectors[train_size:]\\nprint(str(train_photos.shape) + \" \" + str(train_vectors.shape))\\nprint(str(test_photos.shape) + \" \" + str(test_vectors.shape))'"
      ]
     },
     "execution_count": 12,
     "metadata": {},
     "output_type": "execute_result"
    }
   ],
   "source": [
    "all_photos = np.load('all_photos.npy')\n",
    "all_vectors = np.load('all_vectors.npy')\n",
    "train_size = int(0.98 * len(all_vectors))\n",
    "\n",
    "dataset = tf.data.Dataset.from_tensor_slices((all_vectors, all_photos))\n",
    "dataset = dataset.shuffle(buffer_size=100, seed=42)\n",
    "\n",
    "train_dataset = dataset.take(train_size)\n",
    "test_dataset = dataset.skip(train_size)\n",
    "\n",
    "train_dataset = train_dataset.batch(32)\n",
    "test_dataset = test_dataset.batch(32)\n",
    "\n",
    "print(len(list(train_dataset)), len(list(test_dataset)))\n",
    "#for images, labels in train_dataset: print(images.shape, labels.shape)\n",
    "\"\"\"\n",
    "train_photos= all_photos[:train_size]\n",
    "train_vectors = all_vectors[:train_size]\n",
    "test_photos = all_photos[train_size:]\n",
    "test_vectors = all_vectors[train_size:]\n",
    "print(str(train_photos.shape) + \" \" + str(train_vectors.shape))\n",
    "print(str(test_photos.shape) + \" \" + str(test_vectors.shape))\"\"\""
   ]
  },
  {
   "cell_type": "code",
   "execution_count": 61,
   "id": "7a25a365-68b4-4ba4-8aec-bacd6cdd4369",
   "metadata": {},
   "outputs": [
    {
     "name": "stdout",
     "output_type": "stream",
     "text": [
      "Model: \"sequential_8\"\n",
      "_________________________________________________________________\n",
      " Layer (type)                Output Shape              Param #   \n",
      "=================================================================\n",
      " dense_58 (Dense)            (None, 8)                 32        \n",
      "                                                                 \n",
      " dense_59 (Dense)            (None, 16)                144       \n",
      "                                                                 \n",
      " dense_60 (Dense)            (None, 32)                544       \n",
      "                                                                 \n",
      " dropout_24 (Dropout)        (None, 32)                0         \n",
      "                                                                 \n",
      " dense_61 (Dense)            (None, 48)                1584      \n",
      "                                                                 \n",
      " dropout_25 (Dropout)        (None, 48)                0         \n",
      "                                                                 \n",
      " dense_62 (Dense)            (None, 64)                3136      \n",
      "                                                                 \n",
      " dropout_26 (Dropout)        (None, 64)                0         \n",
      "                                                                 \n",
      " dense_63 (Dense)            (None, 1024)              66560     \n",
      "                                                                 \n",
      " reshape_8 (Reshape)         (None, 32, 32)            0         \n",
      "                                                                 \n",
      "=================================================================\n",
      "Total params: 72,000\n",
      "Trainable params: 72,000\n",
      "Non-trainable params: 0\n",
      "_________________________________________________________________\n"
     ]
    }
   ],
   "source": [
    "tf.keras.utils.set_random_seed(42)\n",
    "model = tf.keras.models.Sequential([\n",
    "  tf.keras.layers.Dense(8, activation='linear',  input_shape=((3,))),\n",
    "  tf.keras.layers.Dense(16, activation='relu'),\n",
    "  tf.keras.layers.Dense(32, activation='relu'),\n",
    "  tf.keras.layers.Dropout(0.15),\n",
    "  tf.keras.layers.Dense(48, activation='relu'),\n",
    "  tf.keras.layers.Dropout(0.15),\n",
    "  tf.keras.layers.Dense(64, activation='relu'),\n",
    "  tf.keras.layers.Dropout(0.15),\n",
    "  # tf.keras.layers.Dense(128, activation='relu'),\n",
    "  # tf.keras.layers.Dropout(0.1),\n",
    "  tf.keras.layers.Dense(32*32, activation='relu'),\n",
    "  tf.keras.layers.Reshape((32,32))\n",
    "])\n",
    "model.compile(optimizer='adam',\n",
    "              loss='mean_squared_error', \n",
    "              metrics=['mean_squared_error'])\n",
    "              \n",
    "model.summary()"
   ]
  },
  {
   "cell_type": "code",
   "execution_count": 66,
   "id": "59f9edf0-ba03-4fa7-9224-c492a30ec33f",
   "metadata": {},
   "outputs": [
    {
     "name": "stdout",
     "output_type": "stream",
     "text": [
      "Epoch 1/4\n",
      "159/159 [==============================] - 1s 8ms/step - loss: 0.0014 - mean_squared_error: 0.0014\n",
      "Epoch 2/4\n",
      "159/159 [==============================] - 1s 7ms/step - loss: 0.0013 - mean_squared_error: 0.0013\n",
      "Epoch 3/4\n",
      "159/159 [==============================] - 1s 8ms/step - loss: 0.0012 - mean_squared_error: 0.0012\n",
      "Epoch 4/4\n",
      "159/159 [==============================] - 1s 8ms/step - loss: 0.0012 - mean_squared_error: 0.0012\n"
     ]
    },
    {
     "data": {
      "text/plain": [
       "<keras.callbacks.History at 0x255207cd820>"
      ]
     },
     "execution_count": 66,
     "metadata": {},
     "output_type": "execute_result"
    }
   ],
   "source": [
    "tf.keras.utils.set_random_seed(42)\n",
    "model.fit(train_dataset, epochs=4)"
   ]
  },
  {
   "cell_type": "code",
   "execution_count": 56,
   "id": "f96dbebf-45cc-4bdd-a615-da38e965df28",
   "metadata": {},
   "outputs": [],
   "source": [
    "def ManualCheck(smartnum):\n",
    "    pred = model.predict(all_vectors[smartnum].reshape(1, 3))\n",
    "    truth = all_photos[smartnum]\n",
    "    finalImage = np.concatenate((pred[0], truth), axis=1)\n",
    "    print(all_vectors[smartnum])\n",
    "    plt.imshow(finalImage)\n",
    "    plt.title(\"Prediction\", loc = 'left')\n",
    "    plt.title(\"Ground Truth\", loc = 'right')"
   ]
  },
  {
   "cell_type": "code",
   "execution_count": 71,
   "id": "3e01ec6e-6700-4292-a91d-3e1c8e766f10",
   "metadata": {},
   "outputs": [
    {
     "name": "stdout",
     "output_type": "stream",
     "text": [
      "1/1 [==============================] - 0s 37ms/step\n",
      "[ 0.08715574 -0.9961947   0.        ]\n"
     ]
    },
    {
     "data": {
      "image/png": "[encoded data removed]",
      "text/plain": [
       "<Figure size 640x480 with 1 Axes>"
      ]
     },
     "metadata": {},
     "output_type": "display_data"
    }
   ],
   "source": [
    "ManualCheck(72)"
   ]
  },
  {
   "cell_type": "code",
   "execution_count": null,
   "id": "3ea95341-cb46-463e-8c22-f0ee06aa3d9e",
   "metadata": {},
   "outputs": [],
   "source": []
  }
 ],
 "metadata": {
  "kernelspec": {
   "display_name": "gpu",
   "language": "python",
   "name": "myenv"
  },
  "language_info": {
   "codemirror_mode": {
    "name": "ipython",
    "version": 3
   },
   "file_extension": ".py",
   "mimetype": "text/x-python",
   "name": "python",
   "nbconvert_exporter": "python",
   "pygments_lexer": "ipython3",
   "version": "3.9.20"
  }
 },
 "nbformat": 4,
 "nbformat_minor": 5
}
