{
 "cells": [
  {
   "cell_type": "code",
   "execution_count": 1,
   "id": "a5d5e23f-f359-4fb9-820e-c83640a5edea",
   "metadata": {},
   "outputs": [
    {
     "name": "stdout",
     "output_type": "stream",
     "text": [
      "[PhysicalDevice(name='/physical_device:GPU:0', device_type='GPU')]\n"
     ]
    }
   ],
   "source": [
    "import tensorflow as tf\n",
    "from tensorflow import keras\n",
    "import tensorflow_datasets as tfds\n",
    "gpus = tf.config.experimental.list_physical_devices(\"GPU\")\n",
    "print(gpus)\n",
    "import numpy as np\n",
    "import math\n",
    "from matplotlib import pyplot as plt\n",
    "from PIL import Image\n",
    "import os\n",
    "import RGBHSL\n",
    "import time"
   ]
  },
  {
   "cell_type": "code",
   "execution_count": 57,
   "id": "2c287fd7-4c8e-47d9-a060-22932acaa821",
   "metadata": {},
   "outputs": [],
   "source": [
    "locloc = \"BigDataCubes\" \n",
    "namename = \"\\CombinedDatasets\\Part0\"\n",
    "all_photos = np.load(locloc + namename + 'Photos.npy')[0:1700]\n",
    "#all_labels = np.load(locloc + namename + 'Labels.npy') # Эта штука соответствует одному из значений в all_degrees, котрое соответствует некой маске\n",
    "#all_vectors = np.load(locloc + namename + 'Vectors.npy')\n",
    "#all_degrees = np.load(locloc + namename + 'RotationDegrees.npy')\n",
    "all_albedos = np.load(locloc + namename + 'Albedos.npy')[0:1700]\n",
    "#all_normals = np.load(locloc + namename + 'Normals.npy')\n",
    "all_masks = np.load(locloc + namename + 'Masks.npy')[0:1700,:,:,0]\n",
    "# Цель просто сделать рабочий генератор маски.\n",
    "all_differences = np.zeros(all_photos.shape)"
   ]
  },
  {
   "cell_type": "code",
   "execution_count": 78,
   "id": "70034c18-7cb5-4226-971a-12351abaa621",
   "metadata": {},
   "outputs": [],
   "source": [
    "def normalizeNegativeImage(imim, mask):\n",
    "    mask = np.stack([mask, mask, mask], axis=2)\n",
    "    nonneg = imim - np.ones(imim.shape) * imim.min()\n",
    "    nmax = 0.01\n",
    "    if nonneg.max() != 0:\n",
    "        nmax = nonneg.max()\n",
    "    nonneg = nonneg * (1.0/nmax)\n",
    "    return nonneg * mask"
   ]
  },
  {
   "cell_type": "code",
   "execution_count": 223,
   "id": "9a12b011-7a6e-4ab8-8973-e71b5e1aa2e5",
   "metadata": {},
   "outputs": [],
   "source": [
    "all_photos = np.load(locloc + \"\\CombinedDatasets\" + \"\\SmallHSL\" + \"Photo.npy\")\n",
    "all_albedos = np.load(locloc + \"\\CombinedDatasets\" + \"\\SmallHSL\" + \"Albedo.npy\")"
   ]
  },
  {
   "cell_type": "code",
   "execution_count": 224,
   "id": "b771afbb-65f5-4641-884a-41794590c063",
   "metadata": {},
   "outputs": [],
   "source": [
    "all_differences = (all_photos - all_albedos)[:, :, :, 1:3]"
   ]
  },
  {
   "cell_type": "code",
   "execution_count": 231,
   "id": "0f15206f-455c-49b6-88a0-0ab22cce2c90",
   "metadata": {},
   "outputs": [
    {
     "data": {
      "text/plain": [
       "<matplotlib.image.AxesImage at 0x21fad7513d0>"
      ]
     },
     "execution_count": 231,
     "metadata": {},
     "output_type": "execute_result"
    },
    {
     "data": {
      "image/png": "[encoded data removed]",
      "text/plain": [
       "<Figure size 640x480 with 1 Axes>"
      ]
     },
     "metadata": {},
     "output_type": "display_data"
    }
   ],
   "source": [
    "plt.imshow(RGBHSL.image_coverter( all_photos[2] - np.stack([np.zeros((64,64)), all_differences[2, :,:,0],all_differences[2, :,:,1]], axis=2)\n",
    "                                 , RGBHSL.pixel_hsl_to_rgb, normalized_input=True, normalize_output=True))"
   ]
  },
  {
   "cell_type": "code",
   "execution_count": 76,
   "id": "5ae9e36e-f398-4bc1-96df-57c75f31d9f6",
   "metadata": {},
   "outputs": [
    {
     "data": {
      "text/plain": [
       "'\\nprevtime = time.time()\\nfor photo in range(len(all_photos)):\\n    all_photos[photo] = RGBHSL.image_coverter(all_photos[photo],RGBHSL.pixel_rgb_to_hsl, normalized_input= True,  normalize_output=True)\\n    all_albedos[photo] = RGBHSL.image_coverter(all_albedos[photo],RGBHSL.pixel_rgb_to_hsl, normalized_input= True,  normalize_output=True)\\n    if photo % 100 == 0: \\n        nowtime = time.time()\\n        seconds, milliseconds = divmod((nowtime - prevtime) * 1000, 1000)\\n        prevtime = nowtime\\n        print(f\"{photo // 100}00 сек {seconds} мсек {milliseconds}\")\\nprint(\"finished\")\\n'"
      ]
     },
     "execution_count": 76,
     "metadata": {},
     "output_type": "execute_result"
    }
   ],
   "source": [
    "\"\"\"\n",
    "prevtime = time.time()\n",
    "for photo in range(len(all_photos)):\n",
    "    all_photos[photo] = RGBHSL.image_coverter(all_photos[photo],RGBHSL.pixel_rgb_to_hsl, normalized_input= True,  normalize_output=True)\n",
    "    all_albedos[photo] = RGBHSL.image_coverter(all_albedos[photo],RGBHSL.pixel_rgb_to_hsl, normalized_input= True,  normalize_output=True)\n",
    "    if photo % 100 == 0: \n",
    "        nowtime = time.time()\n",
    "        seconds, milliseconds = divmod((nowtime - prevtime) * 1000, 1000)\n",
    "        prevtime = nowtime\n",
    "        print(f\"{photo // 100}00 сек {seconds} мсек {milliseconds}\")\n",
    "print(\"finished\")\n",
    "\"\"\""
   ]
  },
  {
   "cell_type": "code",
   "execution_count": 77,
   "id": "d385fe5f-0449-4442-a435-b38695d8da93",
   "metadata": {},
   "outputs": [
    {
     "data": {
      "text/plain": [
       "'\\nnp.save(locloc + \"\\\\CombinedDatasets\" + \"\\\\SmallHSL\" + \"Photo\", all_photos)\\nnp.save(locloc + \"\\\\CombinedDatasets\" + \"\\\\SmallHSL\" + \"Albedo\", all_albedos)\\n'"
      ]
     },
     "execution_count": 77,
     "metadata": {},
     "output_type": "execute_result"
    }
   ],
   "source": [
    "\"\"\"\n",
    "np.save(locloc + \"\\CombinedDatasets\" + \"\\SmallHSL\" + \"Photo\", all_photos)\n",
    "np.save(locloc + \"\\CombinedDatasets\" + \"\\SmallHSL\" + \"Albedo\", all_albedos)\n",
    "\"\"\""
   ]
  },
  {
   "cell_type": "code",
   "execution_count": 121,
   "id": "ea7ab4e1-2581-45eb-8b11-4e1a935994d4",
   "metadata": {},
   "outputs": [],
   "source": [
    "myHSL_Photo = RGBHSL.image_coverter(all_photos[0], RGBHSL.pixel_rgb_to_hsl, normalized_input= True,  normalize_output=True)\n",
    "myHSL_Albedo = RGBHSL.image_coverter(all_albedos[0], RGBHSL.pixel_rgb_to_hsl, normalized_input= True,  normalize_output=True)\n",
    "myHSL_Diff = (myHSL_Photo - myHSL_Albedo)\n",
    "myHSL_Diff[:,:,0] = np.zeros((64,64))"
   ]
  },
  {
   "cell_type": "code",
   "execution_count": 122,
   "id": "6c24256d-09a2-4e55-82c5-6b515acf8bdb",
   "metadata": {},
   "outputs": [],
   "source": [
    "myRGB_Photo = RGBHSL.image_coverter(myHSL_Photo, RGBHSL.pixel_hsl_to_rgb, normalized_input= True,  normalize_output=True)\n",
    "myRGB_Albedo = RGBHSL.image_coverter(myHSL_Albedo, RGBHSL.pixel_hsl_to_rgb, normalized_input= True,  normalize_output=True)\n",
    "myRGB_Diff = RGBHSL.image_coverter(np.clip(myHSL_Photo - myHSL_Diff, 0, 1), RGBHSL.pixel_hsl_to_rgb, normalized_input= True,  normalize_output=True)"
   ]
  },
  {
   "cell_type": "code",
   "execution_count": 123,
   "id": "ef42f0d3-dc19-4eef-b5b2-b0ab0041901c",
   "metadata": {},
   "outputs": [],
   "source": [
    "myHSL_Diff_norm = normalizeNegativeImage(myHSL_Diff, np.zeros((64,64)) + 1)\n",
    "myHSL_Diff_norm = np.clip(myHSL_Diff_norm, 0, 1)\n",
    "#myRGB_Diff_norm = RGBHSL.image_coverter(myHSL_Diff_norm, RGBHSL.pixel_hsl_to_rgb, normalized_input= True,  normalize_output=True)"
   ]
  },
  {
   "cell_type": "code",
   "execution_count": 27,
   "id": "c19b803f-ca6e-4f6f-9b87-78228d5d3bc7",
   "metadata": {},
   "outputs": [
    {
     "data": {
      "text/plain": [
       "<matplotlib.image.AxesImage at 0x21e7d388880>"
      ]
     },
     "execution_count": 27,
     "metadata": {},
     "output_type": "execute_result"
    },
    {
     "data": {
      "image/png": "[encoded data removed]",
      "text/plain": [
       "<Figure size 640x480 with 1 Axes>"
      ]
     },
     "metadata": {},
     "output_type": "display_data"
    }
   ],
   "source": []
  },
  {
   "cell_type": "code",
   "execution_count": 194,
   "id": "ba1c729d-d70b-4e40-81a1-b61dc0b07751",
   "metadata": {},
   "outputs": [
    {
     "data": {
      "text/plain": [
       "<matplotlib.image.AxesImage at 0x21f9414f520>"
      ]
     },
     "execution_count": 194,
     "metadata": {},
     "output_type": "execute_result"
    },
    {
     "data": {
      "image/png": "[encoded data removed]",
      "text/plain": [
       "<Figure size 640x480 with 1 Axes>"
      ]
     },
     "metadata": {},
     "output_type": "display_data"
    }
   ],
   "source": [
    "ans = all_photos[5] - np.stack([np.zeros((64,64)), all_differences[5,:,:,0], all_differences[5,:,:,1]], axis = 2)\n",
    "ans = RGBHSL.image_coverter(ans, RGBHSL.pixel_hsl_to_rgb, normalized_input= True,  normalize_output=True)\n",
    "plt.imshow(ans)"
   ]
  },
  {
   "cell_type": "code",
   "execution_count": 131,
   "id": "1fa8dc10-63ad-4d91-93b4-b6dee5eef473",
   "metadata": {},
   "outputs": [
    {
     "name": "stdout",
     "output_type": "stream",
     "text": [
      "(1700, 64, 64, 3)\n",
      "(1700, 64, 64, 2)\n"
     ]
    },
    {
     "data": {
      "text/plain": [
       "(None, None)"
      ]
     },
     "execution_count": 131,
     "metadata": {},
     "output_type": "execute_result"
    }
   ],
   "source": [
    "batch_size = 64\n",
    "train_size = 1\n",
    "lightjumps = 57\n",
    "# Test Dataset нужно грузить отдельно\n",
    "\n",
    "dataset = tf.data.Dataset.from_tensor_slices((all_photos, all_differences))\n",
    "\n",
    "dataset = dataset.shuffle(buffer_size=512, seed=13)\n",
    "\n",
    "train_dataset = dataset.batch(64, drop_remainder=True)\n",
    "print(all_photos.shape), print(all_differences.shape)"
   ]
  },
  {
   "cell_type": "code",
   "execution_count": 155,
   "id": "d4379235-b035-443b-b71b-67a4822831e6",
   "metadata": {},
   "outputs": [],
   "source": [
    "#4,592,758 | 4,592,721\n",
    "def GiveModel(dropout = 0.4):\n",
    "    image_input = keras.layers.Input(shape=(64, 64, 3), name='image_input')\n",
    "    x = keras.layers.Conv2D(4, (3, 3), activation='relu', padding=\"same\")(image_input)\n",
    "    x = keras.layers.MaxPooling2D(pool_size=(2, 2))(x)\n",
    "    x = keras.layers.Conv2D(7, (3, 3), activation='relu', padding=\"same\")(x)\n",
    "    x = keras.layers.MaxPooling2D(pool_size=(2, 2))(x)\n",
    "    x = keras.layers.Flatten()(x)\n",
    "    \n",
    "    # Полносвязный слой\n",
    "    z = keras.layers.Dense(2*16*16, activation='tanh')(x)\n",
    "    do = keras.layers.Dropout(dropout)(z)\n",
    "    z = keras.layers.Dense(4*16*16, activation='tanh')(do)\n",
    "    do = keras.layers.Dropout(dropout)(z)\n",
    "    z = keras.layers.Dense(4*16*16, activation='tanh')(do)\n",
    "    do = keras.layers.Dropout(dropout)(z)\n",
    "    #z = keras.layers.Dense(4*16*16, activation='tanh')(do)\n",
    "    #do = keras.layers.Dropout(dropout)(z)\n",
    "    z = keras.layers.Dense(4*16*16, activation='tanh')(do)\n",
    "    do = keras.layers.Dropout(dropout)(z)\n",
    "    \n",
    "\n",
    "    resh = keras.layers.Reshape((16, 16, 4))(do)\n",
    "    anticonv1 = keras.layers.Conv2DTranspose(4, (3, 3), strides=(2,2), padding='same', activation='tanh')(resh)\n",
    "    output = keras.layers.Conv2DTranspose(2, (3, 3), strides=(2,2), padding='same', activation='tanh')(anticonv1)\n",
    "    \n",
    "    # Создание модели\n",
    "    model = keras.models.Model(inputs=[image_input], outputs=output)\n",
    "    return model"
   ]
  },
  {
   "cell_type": "code",
   "execution_count": 156,
   "id": "5a59a6e1-7a2d-4ca2-b43e-8e206814a504",
   "metadata": {},
   "outputs": [],
   "source": [
    "g_optimizer_image=keras.optimizers.Adam(learning_rate=0.00008)"
   ]
  },
  {
   "cell_type": "code",
   "execution_count": 157,
   "id": "f427e5e8-d41e-4861-ac3a-a4c79b892065",
   "metadata": {},
   "outputs": [
    {
     "name": "stdout",
     "output_type": "stream",
     "text": [
      "Model: \"model_9\"\n",
      "_________________________________________________________________\n",
      " Layer (type)                Output Shape              Param #   \n",
      "=================================================================\n",
      " image_input (InputLayer)    [(None, 64, 64, 3)]       0         \n",
      "                                                                 \n",
      " conv2d_18 (Conv2D)          (None, 64, 64, 4)         112       \n",
      "                                                                 \n",
      " max_pooling2d_18 (MaxPoolin  (None, 32, 32, 4)        0         \n",
      " g2D)                                                            \n",
      "                                                                 \n",
      " conv2d_19 (Conv2D)          (None, 32, 32, 7)         259       \n",
      "                                                                 \n",
      " max_pooling2d_19 (MaxPoolin  (None, 16, 16, 7)        0         \n",
      " g2D)                                                            \n",
      "                                                                 \n",
      " flatten_9 (Flatten)         (None, 1792)              0         \n",
      "                                                                 \n",
      " dense_44 (Dense)            (None, 512)               918016    \n",
      "                                                                 \n",
      " dropout_44 (Dropout)        (None, 512)               0         \n",
      "                                                                 \n",
      " dense_45 (Dense)            (None, 1024)              525312    \n",
      "                                                                 \n",
      " dropout_45 (Dropout)        (None, 1024)              0         \n",
      "                                                                 \n",
      " dense_46 (Dense)            (None, 1024)              1049600   \n",
      "                                                                 \n",
      " dropout_46 (Dropout)        (None, 1024)              0         \n",
      "                                                                 \n",
      " dense_47 (Dense)            (None, 1024)              1049600   \n",
      "                                                                 \n",
      " dropout_47 (Dropout)        (None, 1024)              0         \n",
      "                                                                 \n",
      " reshape_9 (Reshape)         (None, 16, 16, 4)         0         \n",
      "                                                                 \n",
      " conv2d_transpose_18 (Conv2D  (None, 32, 32, 4)        148       \n",
      " Transpose)                                                      \n",
      "                                                                 \n",
      " conv2d_transpose_19 (Conv2D  (None, 64, 64, 2)        74        \n",
      " Transpose)                                                      \n",
      "                                                                 \n",
      "=================================================================\n",
      "Total params: 3,543,121\n",
      "Trainable params: 3,543,121\n",
      "Non-trainable params: 0\n",
      "_________________________________________________________________\n"
     ]
    }
   ],
   "source": [
    "model = GiveModel(0.4)\n",
    "model.compile(optimizer=g_optimizer_image, loss='mse')\n",
    "model.summary()"
   ]
  },
  {
   "cell_type": "code",
   "execution_count": null,
   "id": "a292656c-e893-483e-b619-a01f01f156fc",
   "metadata": {},
   "outputs": [],
   "source": [
    "model.fit(train_dataset, epochs=100)"
   ]
  },
  {
   "cell_type": "code",
   "execution_count": 1,
   "id": "dd87ddaf-3cfb-448b-9e8a-4513bd33d121",
   "metadata": {},
   "outputs": [
    {
     "ename": "NameError",
     "evalue": "name 'np' is not defined",
     "output_type": "error",
     "traceback": [
      "\u001b[1;31m---------------------------------------------------------------------------\u001b[0m",
      "\u001b[1;31mNameError\u001b[0m                                 Traceback (most recent call last)",
      "Cell \u001b[1;32mIn[1], line 1\u001b[0m\n\u001b[1;32m----> 1\u001b[0m toinset \u001b[38;5;241m=\u001b[39m \u001b[43mnp\u001b[49m\u001b[38;5;241m.\u001b[39marray([\u001b[38;5;241m0\u001b[39m, \u001b[38;5;241m100\u001b[39m, \u001b[38;5;241m200\u001b[39m, \u001b[38;5;241m300\u001b[39m, \u001b[38;5;241m400\u001b[39m, \u001b[38;5;241m500\u001b[39m, \u001b[38;5;241m600\u001b[39m, \u001b[38;5;241m700\u001b[39m, \u001b[38;5;241m800\u001b[39m, \u001b[38;5;241m900\u001b[39m, \u001b[38;5;241m1000\u001b[39m, \u001b[38;5;241m1100\u001b[39m])\n\u001b[0;32m      2\u001b[0m bigpicture \u001b[38;5;241m=\u001b[39m masstestAlt(toinset, model)\n\u001b[0;32m      3\u001b[0m toinset1 \u001b[38;5;241m=\u001b[39m np\u001b[38;5;241m.\u001b[39marray([\u001b[38;5;241m1200\u001b[39m, \u001b[38;5;241m1300\u001b[39m, \u001b[38;5;241m1400\u001b[39m, \u001b[38;5;241m1500\u001b[39m, \u001b[38;5;241m1600\u001b[39m, \u001b[38;5;241m50\u001b[39m, \u001b[38;5;241m150\u001b[39m, \u001b[38;5;241m250\u001b[39m, \u001b[38;5;241m350\u001b[39m, \u001b[38;5;241m450\u001b[39m, \u001b[38;5;241m550\u001b[39m, \u001b[38;5;241m650\u001b[39m])\n",
      "\u001b[1;31mNameError\u001b[0m: name 'np' is not defined"
     ]
    }
   ],
   "source": [
    "toinset = np.array([i * 100 for i in range(12)])\n",
    "bigpicture = masstestAlt(toinset, model)\n",
    "toinset1 = np.array([i * 100 + 50 for i in range(12)])\n",
    "bigpicture1 = masstestAlt(toinset1, model)\n",
    "bigpicture = np.concatenate([bigpicture, bigpicture1], axis=0)\n",
    "plt.figure(figsize=(16, 12), dpi=80)\n",
    "#plt.axis(\"off\")\n",
    "plt.ylabel(\"Diff_Pred   |  Diff_Fact  |    Fin_Pred  |    Fin_Fact  |    Input    | Diff_Pred  |  Diff_Fact  |    Fin_Pred  |    Fin_Fact  |    Input    |\", fontsize=11)\n",
    "plt.imshow(bigpicture.astype(\"float32\").clip(0,1))"
   ]
  },
  {
   "cell_type": "code",
   "execution_count": null,
   "id": "836febda-fa55-439f-b116-b110020ce9a9",
   "metadata": {},
   "outputs": [],
   "source": []
  },
  {
   "cell_type": "code",
   "execution_count": 258,
   "id": "bc359db2-aa42-4293-908b-c92f77307a81",
   "metadata": {},
   "outputs": [],
   "source": [
    "def mass_hsl_rgb(my_list):\n",
    "    new_list = np.zeros(my_list.shape)\n",
    "    for i in range(len(my_list)):\n",
    "        new_list[i] = RGBHSL.image_coverter(np.clip(my_list[i],0,1), RGBHSL.pixel_hsl_to_rgb, normalized_input=True, normalize_output=True)\n",
    "    return new_list\n",
    "def mass_norm(my_list):\n",
    "    new_list = np.zeros(my_list.shape) \n",
    "    for i in range(my_list.shape[0]):\n",
    "        new_list[i] = normalizeNegativeImage(my_list[i], np.zeros((64,64)) + 1)\n",
    "    return new_list\n",
    "def masstestAlt(mylist, locmodel):\n",
    "    inputs = all_photos[mylist]\n",
    "    \n",
    "    testanswers = all_differences[mylist]\n",
    "    testanswers = np.stack([np.zeros((mylist.shape[0], 64,64)), testanswers[:,:,:,0], testanswers[:,:,:,1]], axis = 3)\n",
    "\n",
    "    answers = np.zeros(inputs.shape)\n",
    "    for i in range(inputs.shape[0]):\n",
    "        answers[i] = inputs[i] - testanswers[i] #np.stack([np.zeros((64,64)), testanswers[i,:,:,0], testanswers[i,:,:,1]], axis = 2)\n",
    "\n",
    "    imgimg = locmodel.predict([inputs])\n",
    "    imgimg = np.stack([np.zeros((mylist.shape[0],64,64)), imgimg[:,:,:,0], imgimg[:,:,:,1]], axis = 3)\n",
    "\n",
    "    normalized_truth = mass_norm(testanswers)\n",
    "    normalized_preds = mass_norm(imgimg)\n",
    "    #ans = inputs - testanswers\n",
    "    r0 =  np.concatenate(mass_hsl_rgb(inputs), axis=1)\n",
    "    r1 =  np.concatenate(mass_hsl_rgb(answers), axis=1)\n",
    "    r2 =  np.concatenate(mass_hsl_rgb(inputs - imgimg), axis=1)\n",
    "    r3 =  np.concatenate(normalized_truth, axis=1)\n",
    "    r4 =  np.concatenate(normalized_preds, axis=1)\n",
    "\n",
    "    finalimage = np.concatenate([r0, \n",
    "                                 r1, \n",
    "                                 r2, \n",
    "                                 r3, \n",
    "                                 r4\n",
    "                                ], axis=0)\n",
    "    return finalimage"
   ]
  }
 ],
 "metadata": {
  "kernelspec": {
   "display_name": "gpu",
   "language": "python",
   "name": "myenv"
  },
  "language_info": {
   "codemirror_mode": {
    "name": "ipython",
    "version": 3
   },
   "file_extension": ".py",
   "mimetype": "text/x-python",
   "name": "python",
   "nbconvert_exporter": "python",
   "pygments_lexer": "ipython3",
   "version": "3.9.20"
  }
 },
 "nbformat": 4,
 "nbformat_minor": 5
}
