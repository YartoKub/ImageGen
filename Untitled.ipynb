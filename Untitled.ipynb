{
 "cells": [
  {
   "cell_type": "code",
   "execution_count": 1,
   "id": "57667d2b-1b4e-4d48-a7b3-69f94ec0d2de",
   "metadata": {},
   "outputs": [
    {
     "name": "stdout",
     "output_type": "stream",
     "text": [
      "[PhysicalDevice(name='/physical_device:GPU:0', device_type='GPU')]\n"
     ]
    }
   ],
   "source": [
    "import tensorflow as tf\n",
    "gpus = tf.config.experimental.list_physical_devices(\"GPU\")\n",
    "print(gpus)"
   ]
  },
  {
   "cell_type": "code",
   "execution_count": 404,
   "id": "edb5a9ec-403f-472f-a5ed-b4a5ebcd4880",
   "metadata": {},
   "outputs": [],
   "source": [
    "import numpy as np\n",
    "import math\n",
    "import pandas\n",
    "from matplotlib import pyplot as plt"
   ]
  },
  {
   "cell_type": "code",
   "execution_count": 405,
   "id": "c0d0fa27-f729-41da-b9bd-d34d101ccd29",
   "metadata": {},
   "outputs": [],
   "source": [
    "number_of_steps = 72\n",
    "angle_per_step = 360 / number_of_steps\n",
    "image_count = 5184"
   ]
  },
  {
   "cell_type": "code",
   "execution_count": 412,
   "id": "8e288d52-a617-4f10-b3be-0c25b4b172c7",
   "metadata": {},
   "outputs": [],
   "source": [
    "def AngleFromNumber(num):\n",
    "    default_vector = np.array([0,-1,0])\n",
    "    x = num % number_of_steps\n",
    "    z = num // number_of_steps\n",
    "    #print(x, 0, z)\n",
    "    thetaX = np.pi * ( x * angle_per_step / 180 )\n",
    "    thetaZ = np.pi * ( z * angle_per_step / 180 )\n",
    "    #print(thetaX, thetaZ)\n",
    "    default_vector = x_rotation(default_vector, thetaX)\n",
    "    #print(default_vector[0],default_vector[1], default_vector[2] )\n",
    "    default_vector = z_rotation(default_vector, thetaZ)\n",
    "    #print(default_vector[0],default_vector[1], default_vector[2] )\n",
    "    default_vector = default_vector.round(8)\n",
    "    return default_vector\n",
    "def unit_vector(vector):\n",
    "    \"\"\" Returns the unit vector of the vector.\"\"\"\n",
    "    return vector / np.linalg.norm(vector)\n",
    "\n",
    "def angle_between(v1, v2):\n",
    "    \"\"\"Finds angle between two vectors\"\"\"\n",
    "    v1_u = unit_vector(v1)\n",
    "    v2_u = unit_vector(v2)\n",
    "    return np.arccos(np.clip(np.dot(v1_u, v2_u), -1.0, 1.0))\n",
    "\n",
    "def x_rotation(vector,theta):\n",
    "    \"\"\"Rotates 3-D vector around x-axis\"\"\"\n",
    "    R = np.array([[1,0,0],[0,np.cos(theta),-np.sin(theta)],[0, np.sin(theta), np.cos(theta)]])\n",
    "    return np.dot(R,vector)\n",
    "\n",
    "def y_rotation(vector,theta):\n",
    "    \"\"\"Rotates 3-D vector around y-axis\"\"\"\n",
    "    R = np.array([[np.cos(theta),0,np.sin(theta)],[0,1,0],[-np.sin(theta), 0, np.cos(theta)]])\n",
    "    return np.dot(R,vector)\n",
    "\n",
    "def z_rotation(vector,theta):\n",
    "    \"\"\"Rotates 3-D vector around z-axis\"\"\"\n",
    "    R = np.array([[np.cos(theta), -np.sin(theta),0],[np.sin(theta), np.cos(theta),0],[0,0,1]])\n",
    "    return np.dot(R,vector)\n",
    "# Направления:\n",
    "# -X слева ||| +X справа\n",
    "# -Y спереди ||| +Y сзади\n",
    "# - Z снизу ||| +Z сверху\n",
    "#D:\\MyBlender\\imageGenFinished 0000-5184"
   ]
  },
  {
   "cell_type": "code",
   "execution_count": 413,
   "id": "723cea06-690c-4969-97e3-ba06df6439f1",
   "metadata": {},
   "outputs": [
    {
     "name": "stdout",
     "output_type": "stream",
     "text": [
      "0.5 -0.0 0.866\n"
     ]
    },
    {
     "data": {
      "text/plain": [
       "<matplotlib.image.AxesImage at 0x161298eec70>"
      ]
     },
     "execution_count": 413,
     "metadata": {},
     "output_type": "execute_result"
    },
    {
     "data": {
      "image/png": "[encoded data removed]",
      "text/plain": [
       "<Figure size 640x480 with 1 Axes>"
      ]
     },
     "metadata": {},
     "output_type": "display_data"
    }
   ],
   "source": [
    "numirusk = 1356\n",
    "tmp_number_1 = AngleFromNumber(numirusk)\n",
    "print(tmp_number_1[0].round(4), tmp_number_1[1].round(4), tmp_number_1[2].round(4)) #432\n",
    "plt.imshow(all_photos[numirusk])"
   ]
  },
  {
   "cell_type": "code",
   "execution_count": 414,
   "id": "133f55d9-67a2-43ab-8752-3093f77cd8d3",
   "metadata": {},
   "outputs": [
    {
     "name": "stdout",
     "output_type": "stream",
     "text": [
      "imageGenFinished/0128.png\n"
     ]
    }
   ],
   "source": [
    "def GetImageAdress(input_number):\n",
    "    return \"imageGenFinished/\" + str(input_number).zfill(4) + \".png\"\n",
    "print(GetImageAdress(128))"
   ]
  },
  {
   "cell_type": "code",
   "execution_count": 415,
   "id": "cc450f3f-15e7-4e17-bacd-a16ea70f805f",
   "metadata": {},
   "outputs": [
    {
     "data": {
      "text/plain": [
       "<matplotlib.image.AxesImage at 0x161297d1820>"
      ]
     },
     "execution_count": 415,
     "metadata": {},
     "output_type": "execute_result"
    },
    {
     "data": {
      "image/png": "[encoded data removed]",
      "text/plain": [
       "<Figure size 640x480 with 1 Axes>"
      ]
     },
     "metadata": {},
     "output_type": "display_data"
    }
   ],
   "source": [
    "from PIL import Image\n",
    "def GetImage(image_number):\n",
    "    image = Image.open(GetImageAdress(image_number))\n",
    "    image = image.convert('L')\n",
    "    image = np.array(image)\n",
    "    image = image / 255\n",
    "    return image\n",
    "plt.imshow(GetImage(0))"
   ]
  },
  {
   "cell_type": "code",
   "execution_count": 428,
   "id": "6904681d-374b-4021-86d6-3292f345ad7a",
   "metadata": {},
   "outputs": [
    {
     "name": "stdout",
     "output_type": "stream",
     "text": [
      "(5185, 32, 32) (5185, 3)\n"
     ]
    }
   ],
   "source": [
    "\n",
    "# Generate arrays from images\n",
    "all_photos_raw = list()\n",
    "all_labels = list()\n",
    "for pictire in range(0, image_count + 1):\n",
    "    bw_array = GetImage(pictire)\n",
    "    all_photos_raw.append(bw_array)\n",
    "    label = AngleFromNumber(pictire)\n",
    "    all_labels.append(label)\n",
    "all_photos = np.array(all_photos_raw)\n",
    "all_vectors = np.array(all_labels)\n",
    "print(str(all_photos.shape) + \" \" + str(all_vectors.shape))\n",
    "np.save('all_photos.npy', all_photos)\n",
    "np.save('all_vectors.npy', all_vectors)\n"
   ]
  },
  {
   "cell_type": "code",
   "execution_count": 429,
   "id": "4ccf5600-829e-4d27-a668-8e615537ec90",
   "metadata": {},
   "outputs": [
    {
     "name": "stdout",
     "output_type": "stream",
     "text": [
      "159 4\n"
     ]
    },
    {
     "data": {
      "text/plain": [
       "'\\ntrain_photos= all_photos[:train_size]\\ntrain_vectors = all_vectors[:train_size]\\ntest_photos = all_photos[train_size:]\\ntest_vectors = all_vectors[train_size:]\\nprint(str(train_photos.shape) + \" \" + str(train_vectors.shape))\\nprint(str(test_photos.shape) + \" \" + str(test_vectors.shape))'"
      ]
     },
     "execution_count": 429,
     "metadata": {},
     "output_type": "execute_result"
    }
   ],
   "source": [
    "all_photos = np.load('all_photos.npy')\n",
    "all_vectors = np.load('all_vectors.npy')\n",
    "train_size = int(0.98 * len(all_vectors))\n",
    "\n",
    "dataset = tf.data.Dataset.from_tensor_slices((all_photos, all_vectors))\n",
    "dataset = dataset.shuffle(buffer_size=100, seed=42)\n",
    "\n",
    "train_dataset = dataset.take(train_size)\n",
    "test_dataset = dataset.skip(train_size)\n",
    "\n",
    "train_dataset = train_dataset.batch(32)\n",
    "test_dataset = test_dataset.batch(32)\n",
    "\n",
    "print(len(list(train_dataset)), len(list(test_dataset)))\n",
    "#for images, labels in train_dataset: print(images.shape, labels.shape)\n",
    "\"\"\"\n",
    "train_photos= all_photos[:train_size]\n",
    "train_vectors = all_vectors[:train_size]\n",
    "test_photos = all_photos[train_size:]\n",
    "test_vectors = all_vectors[train_size:]\n",
    "print(str(train_photos.shape) + \" \" + str(train_vectors.shape))\n",
    "print(str(test_photos.shape) + \" \" + str(test_vectors.shape))\"\"\""
   ]
  },
  {
   "cell_type": "code",
   "execution_count": 422,
   "id": "dddd82d9-dcb2-4571-a6bb-21ff05856f29",
   "metadata": {},
   "outputs": [
    {
     "name": "stdout",
     "output_type": "stream",
     "text": [
      "Model: \"sequential_57\"\n",
      "_________________________________________________________________\n",
      " Layer (type)                Output Shape              Param #   \n",
      "=================================================================\n",
      " conv2d_192 (Conv2D)         (None, 30, 30, 4)         40        \n",
      "                                                                 \n",
      " conv2d_193 (Conv2D)         (None, 28, 28, 4)         148       \n",
      "                                                                 \n",
      " conv2d_194 (Conv2D)         (None, 26, 26, 4)         148       \n",
      "                                                                 \n",
      " conv2d_195 (Conv2D)         (None, 24, 24, 4)         148       \n",
      "                                                                 \n",
      " conv2d_196 (Conv2D)         (None, 22, 22, 4)         148       \n",
      "                                                                 \n",
      " conv2d_197 (Conv2D)         (None, 20, 20, 4)         148       \n",
      "                                                                 \n",
      " conv2d_198 (Conv2D)         (None, 18, 18, 4)         148       \n",
      "                                                                 \n",
      " conv2d_199 (Conv2D)         (None, 16, 16, 4)         148       \n",
      "                                                                 \n",
      " flatten_55 (Flatten)        (None, 1024)              0         \n",
      "                                                                 \n",
      " dense_179 (Dense)           (None, 32)                32800     \n",
      "                                                                 \n",
      " dropout_120 (Dropout)       (None, 32)                0         \n",
      "                                                                 \n",
      " dense_180 (Dense)           (None, 32)                1056      \n",
      "                                                                 \n",
      " dropout_121 (Dropout)       (None, 32)                0         \n",
      "                                                                 \n",
      " dense_181 (Dense)           (None, 3)                 99        \n",
      "                                                                 \n",
      "=================================================================\n",
      "Total params: 35,031\n",
      "Trainable params: 35,031\n",
      "Non-trainable params: 0\n",
      "_________________________________________________________________\n"
     ]
    }
   ],
   "source": [
    "tf.keras.utils.set_random_seed(42)\n",
    "model = tf.keras.models.Sequential([\n",
    "  tf.keras.layers.Conv2D(4, (3, 3), activation='linear', input_shape=(32, 32, 1)),\n",
    "  #tf.keras.layers.MaxPooling2D((2, 2)),\n",
    "  tf.keras.layers.Conv2D(4, (3, 3), activation='linear', input_shape=(32, 32, 1)),\n",
    "  tf.keras.layers.Conv2D(4, (3, 3), activation='linear', input_shape=(32, 32, 1)),\n",
    "  tf.keras.layers.Conv2D(4, (3, 3), activation='linear', input_shape=(32, 32, 1)),\n",
    "    tf.keras.layers.Conv2D(4, (3, 3), activation='linear', input_shape=(32, 32, 1)),\n",
    "    tf.keras.layers.Conv2D(4, (3, 3), activation='linear', input_shape=(32, 32, 1)),\n",
    "    tf.keras.layers.Conv2D(4, (3, 3), activation='linear', input_shape=(32, 32, 1)),\n",
    "    tf.keras.layers.Conv2D(4, (3, 3), activation='linear', input_shape=(32, 32, 1)),\n",
    "\n",
    "  tf.keras.layers.Flatten(),\n",
    "  #tf.keras.layers.Dense(48, activation='sigmoid'),\n",
    "  #tf.keras.layers.Dropout(0.1),\n",
    "    \n",
    "  tf.keras.layers.Dense(32, activation='linear'),\n",
    "  tf.keras.layers.Dropout(0.1),\n",
    "  tf.keras.layers.Dense(32, activation='linear'),\n",
    "  tf.keras.layers.Dropout(0.1),\n",
    "  tf.keras.layers.Dense(3)\n",
    "])\n",
    "model.compile(optimizer='adam',\n",
    "              loss='mean_squared_error', \n",
    "              metrics=['mean_squared_error'])\n",
    "              \n",
    "model.summary()"
   ]
  },
  {
   "cell_type": "code",
   "execution_count": 423,
   "id": "c469ef60-fbdb-4c6e-969d-28854c189ca3",
   "metadata": {},
   "outputs": [
    {
     "name": "stdout",
     "output_type": "stream",
     "text": [
      "Epoch 1/10\n",
      "159/159 [==============================] - 2s 11ms/step - loss: 0.0814 - mean_squared_error: 0.0814\n",
      "Epoch 2/10\n",
      "159/159 [==============================] - 2s 10ms/step - loss: 0.0326 - mean_squared_error: 0.0326\n",
      "Epoch 3/10\n",
      "159/159 [==============================] - 1s 9ms/step - loss: 0.0171 - mean_squared_error: 0.0171\n",
      "Epoch 4/10\n",
      "159/159 [==============================] - 1s 8ms/step - loss: 0.0135 - mean_squared_error: 0.0135\n",
      "Epoch 5/10\n",
      "159/159 [==============================] - 1s 9ms/step - loss: 0.0126 - mean_squared_error: 0.0126\n",
      "Epoch 6/10\n",
      "159/159 [==============================] - 2s 10ms/step - loss: 0.0117 - mean_squared_error: 0.0117\n",
      "Epoch 7/10\n",
      "159/159 [==============================] - 2s 11ms/step - loss: 0.0113 - mean_squared_error: 0.0113\n",
      "Epoch 8/10\n",
      "159/159 [==============================] - 2s 11ms/step - loss: 0.0107 - mean_squared_error: 0.0107\n",
      "Epoch 9/10\n",
      "159/159 [==============================] - 2s 10ms/step - loss: 0.0103 - mean_squared_error: 0.0103\n",
      "Epoch 10/10\n",
      "159/159 [==============================] - 2s 10ms/step - loss: 0.0100 - mean_squared_error: 0.0100\n"
     ]
    },
    {
     "data": {
      "text/plain": [
       "<keras.callbacks.History at 0x1612babe130>"
      ]
     },
     "execution_count": 423,
     "metadata": {},
     "output_type": "execute_result"
    }
   ],
   "source": [
    "tf.keras.utils.set_random_seed(42)\n",
    "model.fit(train_dataset, epochs=10)"
   ]
  },
  {
   "cell_type": "code",
   "execution_count": 424,
   "id": "07a02661-cdf2-4729-9a07-e6549b230959",
   "metadata": {},
   "outputs": [],
   "source": [
    "def ManualCheck(original_index):\n",
    "    inputt = all_photos[original_index].reshape(1, 32, 32)\n",
    "    #inputt = inputt.flatten()\n",
    "    prediction = model.predict(inputt)[0].round(6)\n",
    "    print(\"Prediction  : \" + str(prediction))\n",
    "    print(\"Ground truth: \" + str(all_vectors[original_index]))\n",
    "    print(\"orig L: \" + str(np.linalg.norm(all_vectors[original_index]).round(5)))\n",
    "    print(\"pred L: \" + str(np.linalg.norm(prediction).round(5)))\n",
    "    #print(all_photos[original_index][16][16])\n",
    "    plt.imshow(all_photos[original_index])"
   ]
  },
  {
   "cell_type": "code",
   "execution_count": 427,
   "id": "9969dba5-8d7e-4c75-a398-5ef313655339",
   "metadata": {},
   "outputs": [
    {
     "name": "stdout",
     "output_type": "stream",
     "text": [
      "1/1 [==============================] - 0s 22ms/step\n",
      "Prediction  : [-0.908808 -0.081706  0.112191]\n",
      "Ground truth: [-0.9961947   0.          0.08715574]\n",
      "orig L: 1.0\n",
      "pred L: 0.91934\n",
      "4/4 [==============================] - 0s 23ms/step - loss: 0.0053 - mean_squared_error: 0.0053\n"
     ]
    },
    {
     "data": {
      "text/plain": [
       "[0.005310492590069771, 0.005310492590069771]"
      ]
     },
     "execution_count": 427,
     "metadata": {},
     "output_type": "execute_result"
    },
    {
     "data": {
      "image/png": "[encoded data removed]",
      "text/plain": [
       "<Figure size 640x480 with 1 Axes>"
      ]
     },
     "metadata": {},
     "output_type": "display_data"
    }
   ],
   "source": [
    "numnum = 1333\n",
    "ManualCheck(numnum)\n",
    "model.evaluate(test_dataset)\n",
    "# -X слева ||| +X справа\n",
    "# -Y спереди ||| +Y сзади\n",
    "# - Z снизу ||| +Z сверху"
   ]
  },
  {
   "cell_type": "code",
   "execution_count": null,
   "id": "15dd29a6-ec9e-4a9a-9226-ed2de4a09bf6",
   "metadata": {},
   "outputs": [],
   "source": []
  }
 ],
 "metadata": {
  "kernelspec": {
   "display_name": "gpu",
   "language": "python",
   "name": "myenv"
  },
  "language_info": {
   "codemirror_mode": {
    "name": "ipython",
    "version": 3
   },
   "file_extension": ".py",
   "mimetype": "text/x-python",
   "name": "python",
   "nbconvert_exporter": "python",
   "pygments_lexer": "ipython3",
   "version": "3.9.20"
  }
 },
 "nbformat": 4,
 "nbformat_minor": 5
}
