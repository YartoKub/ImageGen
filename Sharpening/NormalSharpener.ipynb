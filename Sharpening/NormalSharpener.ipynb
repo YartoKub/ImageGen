{
 "cells": [
  {
   "cell_type": "code",
   "execution_count": 3,
   "id": "04d3575a-a1d0-4f07-81c1-40b1da79701b",
   "metadata": {},
   "outputs": [
    {
     "name": "stdout",
     "output_type": "stream",
     "text": [
      "[PhysicalDevice(name='/physical_device:GPU:0', device_type='GPU')]\n"
     ]
    }
   ],
   "source": [
    "import tensorflow as tf\n",
    "from tensorflow import keras\n",
    "import tensorflow_datasets as tfds\n",
    "gpus = tf.config.experimental.list_physical_devices(\"GPU\")\n",
    "print(gpus)\n",
    "import numpy as np\n",
    "import math\n",
    "import pandas\n",
    "from matplotlib import pyplot as plt\n",
    "from PIL import Image\n",
    "import os\n"
   ]
  },
  {
   "cell_type": "code",
   "execution_count": 4,
   "id": "30de1ae2-30bb-4123-b041-5e0ba470f3b6",
   "metadata": {},
   "outputs": [],
   "source": [
    "def masstestAlt(mylist, locmodel):\n",
    "    predicts =  all_predicts[mylist]\n",
    "    reals = all_normals[mylist]\n",
    "    imgimg = locmodel.predict([predicts])\n",
    "    r0 =  np.concatenate(predicts, axis=1)\n",
    "    r1 =  np.concatenate(imgimg, axis=1)\n",
    "    r2 =  np.concatenate(reals, axis=1)\n",
    "    finalimage = np.concatenate([r0, r1, r2], axis=0)\n",
    "    return finalimage"
   ]
  },
  {
   "cell_type": "code",
   "execution_count": 5,
   "id": "8decb4d7-a914-4b04-83d2-0bae058978d6",
   "metadata": {},
   "outputs": [
    {
     "ename": "FileNotFoundError",
     "evalue": "[Errno 2] No such file or directory: 'BigData\\\\TestBigPastelNormals.npy'",
     "output_type": "error",
     "traceback": [
      "\u001b[1;31m---------------------------------------------------------------------------\u001b[0m",
      "\u001b[1;31mFileNotFoundError\u001b[0m                         Traceback (most recent call last)",
      "Cell \u001b[1;32mIn[5], line 3\u001b[0m\n\u001b[0;32m      1\u001b[0m locloc \u001b[38;5;241m=\u001b[39m \u001b[38;5;124m\"\u001b[39m\u001b[38;5;124mBigData\u001b[39m\u001b[38;5;124m\"\u001b[39m \n\u001b[0;32m      2\u001b[0m namename \u001b[38;5;241m=\u001b[39m \u001b[38;5;124m\"\u001b[39m\u001b[38;5;124m\\\u001b[39m\u001b[38;5;124mTestBigPastel\u001b[39m\u001b[38;5;124m\"\u001b[39m\n\u001b[1;32m----> 3\u001b[0m all_normals \u001b[38;5;241m=\u001b[39m \u001b[43mnp\u001b[49m\u001b[38;5;241;43m.\u001b[39;49m\u001b[43mload\u001b[49m\u001b[43m(\u001b[49m\u001b[43mlocloc\u001b[49m\u001b[43m \u001b[49m\u001b[38;5;241;43m+\u001b[39;49m\u001b[43m \u001b[49m\u001b[43mnamename\u001b[49m\u001b[43m \u001b[49m\u001b[38;5;241;43m+\u001b[39;49m\u001b[43m \u001b[49m\u001b[38;5;124;43m'\u001b[39;49m\u001b[38;5;124;43mNormals.npy\u001b[39;49m\u001b[38;5;124;43m'\u001b[39;49m\u001b[43m)\u001b[49m\n\u001b[0;32m      4\u001b[0m all_masks \u001b[38;5;241m=\u001b[39m np\u001b[38;5;241m.\u001b[39mload(locloc \u001b[38;5;241m+\u001b[39m namename \u001b[38;5;241m+\u001b[39m \u001b[38;5;124m'\u001b[39m\u001b[38;5;124mMasks.npy\u001b[39m\u001b[38;5;124m'\u001b[39m)\n\u001b[0;32m      5\u001b[0m all_predicts \u001b[38;5;241m=\u001b[39m np\u001b[38;5;241m.\u001b[39mload(\u001b[38;5;124m\"\u001b[39m\u001b[38;5;124mSharpenInputs//small_blurry_predictions.npy\u001b[39m\u001b[38;5;124m\"\u001b[39m)\n",
      "File \u001b[1;32m~\\anaconda3\\envs\\gpu\\lib\\site-packages\\numpy\\lib\\npyio.py:390\u001b[0m, in \u001b[0;36mload\u001b[1;34m(file, mmap_mode, allow_pickle, fix_imports, encoding)\u001b[0m\n\u001b[0;32m    388\u001b[0m     own_fid \u001b[38;5;241m=\u001b[39m \u001b[38;5;28;01mFalse\u001b[39;00m\n\u001b[0;32m    389\u001b[0m \u001b[38;5;28;01melse\u001b[39;00m:\n\u001b[1;32m--> 390\u001b[0m     fid \u001b[38;5;241m=\u001b[39m stack\u001b[38;5;241m.\u001b[39menter_context(\u001b[38;5;28;43mopen\u001b[39;49m\u001b[43m(\u001b[49m\u001b[43mos_fspath\u001b[49m\u001b[43m(\u001b[49m\u001b[43mfile\u001b[49m\u001b[43m)\u001b[49m\u001b[43m,\u001b[49m\u001b[43m \u001b[49m\u001b[38;5;124;43m\"\u001b[39;49m\u001b[38;5;124;43mrb\u001b[39;49m\u001b[38;5;124;43m\"\u001b[39;49m\u001b[43m)\u001b[49m)\n\u001b[0;32m    391\u001b[0m     own_fid \u001b[38;5;241m=\u001b[39m \u001b[38;5;28;01mTrue\u001b[39;00m\n\u001b[0;32m    393\u001b[0m \u001b[38;5;66;03m# Code to distinguish from NumPy binary files and pickles.\u001b[39;00m\n",
      "\u001b[1;31mFileNotFoundError\u001b[0m: [Errno 2] No such file or directory: 'BigData\\\\TestBigPastelNormals.npy'"
     ]
    }
   ],
   "source": [
    "locloc = \"BigData\" \n",
    "namename = \"\\TestBigPastel\"\n",
    "all_normals = np.load(locloc + namename + 'Normals.npy')\n",
    "all_masks = np.load(locloc + namename + 'Masks.npy')\n",
    "all_predicts = np.load(\"SharpenInputs//small_blurry_predictions.npy\")"
   ]
  },
  {
   "cell_type": "code",
   "execution_count": null,
   "id": "7a815a10-e041-424f-97dd-357c280c1f42",
   "metadata": {},
   "outputs": [],
   "source": [
    "print(all_normals.shape)\n",
    "print(all_predicts.shape)"
   ]
  },
  {
   "cell_type": "code",
   "execution_count": null,
   "id": "27600a5b-7a9b-4a68-98c8-3e70c7fed17e",
   "metadata": {},
   "outputs": [],
   "source": [
    "image_size = (64,64,3)"
   ]
  },
  {
   "cell_type": "code",
   "execution_count": null,
   "id": "f9a2f432-2613-41d3-88cd-9bdb25c50031",
   "metadata": {},
   "outputs": [],
   "source": [
    "def ConvBlock(inputs, filters=64):\n",
    "    conv1 = keras.layers.Conv2D(filters, kernel_size = (3,3), padding = \"same\")(inputs)\n",
    "    batch_norm1 = keras.layers.BatchNormalization()(conv1)\n",
    "    act1 = keras.layers.ReLU()(batch_norm1)\n",
    "    conv2 = keras.layers.Conv2D(filters, kernel_size = (3,3), padding = \"same\")(act1)\n",
    "    batch_norm2 = keras.layers.BatchNormalization()(conv2)\n",
    "    act2 = keras.layers.ReLU()(batch_norm2)\n",
    "    return act2\n",
    "def encoder(inputs, filters=64):\n",
    "    enc1 = ConvBlock(inputs, filters)\n",
    "    MaxPool1 = keras.layers.MaxPooling2D(strides = (2,2))(enc1)\n",
    "    return enc1, MaxPool1\n",
    "def decoder(inputs, skip, filters=64):\n",
    "    Upsample = keras.layers.Conv2DTranspose(filters, (2, 2), strides=2, padding=\"same\")(inputs)\n",
    "    Connect_Skip = keras.layers.Concatenate()([Upsample, skip])\n",
    "    out = ConvBlock(Connect_Skip, filters)\n",
    "    return out\n",
    "def get_U_Net(image_size):\n",
    "    inputs = keras.layers.Input(image_size)\n",
    "    \n",
    "    skip1, encoder_1 = encoder(inputs, 24)\n",
    "    skip2, encoder_2 = encoder(encoder_1, 24*2)\n",
    "    skip3, encoder_3 = encoder(encoder_2, 24*4)\n",
    "    #skip4, encoder_4 = encoder(encoder_3, 24*8)\n",
    "    \n",
    "    conv_block = ConvBlock(encoder_3, 24*8)\n",
    "    dropout_block = keras.layers.Dropout(0.3)(conv_block)\n",
    "    \n",
    "    #decoder_1 = decoder(conv_block, skip4, 24*8)\n",
    "    decoder_2 = decoder(dropout_block, skip3, 24*4)\n",
    "    decoder_3 = decoder(decoder_2, skip2, 24*2)\n",
    "    decoder_4 = decoder(decoder_3, skip1, 24)\n",
    "    \n",
    "    outputs = keras.layers.Conv2D(3, 1, padding=\"same\", activation=\"sigmoid\")(decoder_4)\n",
    "    \n",
    "    model = keras.models.Model(inputs, outputs)\n",
    "    return model"
   ]
  },
  {
   "cell_type": "code",
   "execution_count": 6,
   "id": "e82e5e01-2bfc-4516-ae86-626122aa6af4",
   "metadata": {},
   "outputs": [
    {
     "ename": "NameError",
     "evalue": "name 'get_U_Net' is not defined",
     "output_type": "error",
     "traceback": [
      "\u001b[1;31m---------------------------------------------------------------------------\u001b[0m",
      "\u001b[1;31mNameError\u001b[0m                                 Traceback (most recent call last)",
      "Cell \u001b[1;32mIn[6], line 1\u001b[0m\n\u001b[1;32m----> 1\u001b[0m model \u001b[38;5;241m=\u001b[39m \u001b[43mget_U_Net\u001b[49m(image_size)\n\u001b[0;32m      2\u001b[0m model\u001b[38;5;241m.\u001b[39msummary()\n\u001b[0;32m      3\u001b[0m g_optimizer_image\u001b[38;5;241m=\u001b[39mkeras\u001b[38;5;241m.\u001b[39moptimizers\u001b[38;5;241m.\u001b[39mAdam(learning_rate\u001b[38;5;241m=\u001b[39m\u001b[38;5;241m0.00004\u001b[39m)\n",
      "\u001b[1;31mNameError\u001b[0m: name 'get_U_Net' is not defined"
     ]
    }
   ],
   "source": [
    "model = get_U_Net(image_size)\n",
    "model.summary()\n",
    "g_optimizer_image=keras.optimizers.Adam(learning_rate=0.00004)\n",
    "model.compile(optimizer=g_optimizer_image, loss='mse')"
   ]
  },
  {
   "cell_type": "code",
   "execution_count": null,
   "id": "f5396ac2-1492-4fe5-a65e-99e2901c7b73",
   "metadata": {},
   "outputs": [],
   "source": [
    "model.fit(all_predicts, all_normals, epochs=5)"
   ]
  },
  {
   "cell_type": "code",
   "execution_count": null,
   "id": "1c326ee6-c5ce-4c7e-9655-4abadfc78e3c",
   "metadata": {},
   "outputs": [],
   "source": [
    "toinset = np.array([0, 500, 1000, 1500, 2000, 2500, 3000, 3500, 4000, 4500, 5000, 5500])\n",
    "bigpicture = masstestAlt(toinset, model)\n",
    "toinset1 = np.array([250, 750, 1250, 1750, 2250, 2750, 3250, 3750, 4250, 4750, 5250, 5750])\n",
    "bigpicture1 = masstestAlt(toinset1, model)\n",
    "bigpicture = np.concatenate([bigpicture, bigpicture1], axis=0)\n",
    "print(bigpicture.shape)\n",
    "plt.figure(figsize=(16, 12), dpi=80)\n",
    "print(\"Сверху вниз: Ввод // Предсказание // Реальность\")\n",
    "plt.imshow(bigpicture.astype(\"float32\").clip(0,1))"
   ]
  },
  {
   "cell_type": "code",
   "execution_count": null,
   "id": "83cd3681-f938-418c-a1f6-ef78cd568280",
   "metadata": {},
   "outputs": [],
   "source": [
    "model.evaluate(test_inputs, test_normals) "
   ]
  },
  {
   "cell_type": "code",
   "execution_count": 2,
   "id": "3081d0fb-e72d-48ee-aecd-36dc50a2b5f2",
   "metadata": {},
   "outputs": [
    {
     "ename": "NameError",
     "evalue": "name 'model' is not defined",
     "output_type": "error",
     "traceback": [
      "\u001b[1;31m---------------------------------------------------------------------------\u001b[0m",
      "\u001b[1;31mNameError\u001b[0m                                 Traceback (most recent call last)",
      "Cell \u001b[1;32mIn[2], line 1\u001b[0m\n\u001b[1;32m----> 1\u001b[0m test_predictions \u001b[38;5;241m=\u001b[39m \u001b[43mmodel\u001b[49m\u001b[38;5;241m.\u001b[39mpredict(test_inputs_visual)\n\u001b[0;32m      3\u001b[0m r0 \u001b[38;5;241m=\u001b[39m  np\u001b[38;5;241m.\u001b[39mconcatenate(test_inputs_visual[\u001b[38;5;241m0\u001b[39m:\u001b[38;5;241m12\u001b[39m], axis\u001b[38;5;241m=\u001b[39m\u001b[38;5;241m1\u001b[39m)\n\u001b[0;32m      4\u001b[0m r1 \u001b[38;5;241m=\u001b[39m  np\u001b[38;5;241m.\u001b[39mconcatenate(test_normals_visual[\u001b[38;5;241m0\u001b[39m:\u001b[38;5;241m12\u001b[39m], axis\u001b[38;5;241m=\u001b[39m\u001b[38;5;241m1\u001b[39m)\n",
      "\u001b[1;31mNameError\u001b[0m: name 'model' is not defined"
     ]
    }
   ],
   "source": [
    "test_predictions = model.predict(test_inputs_visual)\n",
    "\n",
    "r0 =  np.concatenate(test_inputs_visual[0:12], axis=1)\n",
    "r1 =  np.concatenate(test_normals_visual[0:12], axis=1)\n",
    "r2 =  np.concatenate(test_predictions[0:12], axis=1)\n",
    "r4 =  np.concatenate(test_inputs_visual[12:24], axis=1)\n",
    "r5 =  np.concatenate(test_normals_visual[12:24], axis=1)\n",
    "r6 =  np.concatenate(test_predictions[12:24], axis=1)\n",
    "finalimage = np.concatenate([r0,  r2, r1, r4, r6, r5], axis=0)\n",
    "plt.figure(figsize=(16, 12), dpi=80)\n",
    "plt.ylabel(\" real  | cleaned |  input   |  real | cleaned |  input\", fontsize=18)\n",
    "plt.imshow(finalimage.clip(0,1))"
   ]
  },
  {
   "cell_type": "code",
   "execution_count": 45,
   "id": "e83649d9-962a-4bc1-83d0-f46465beb39b",
   "metadata": {},
   "outputs": [],
   "source": [
    "#model.save(\"good_smoothie.keras\")\n",
    "# вай-вай, работает хорошо, чистит отлично. Картинки очень четкие."
   ]
  },
  {
   "cell_type": "code",
   "execution_count": 37,
   "id": "90f8bb0a-f911-4432-9a15-50f5f0ddcfa8",
   "metadata": {},
   "outputs": [],
   "source": [
    "locloc2 = \"BigData\" \n",
    "namename2 = \"\\TrainBigPastel\"\n",
    "all_test_normals = np.load(locloc2 + namename2 + 'Normals.npy')\n",
    "test_normals = all_test_normals[0:1000]\n",
    "test_normals_visual = all_test_normals[1000:1024]\n",
    "del all_test_normals;\n",
    "all_test_inputs = np.load(\"SharpenInputs//big_blurry_predictions.npy\")\n",
    "test_inputs= all_test_inputs[0:1000]\n",
    "test_inputs_visual = all_test_inputs[1000:1024]\n",
    "del all_test_inputs;"
   ]
  },
  {
   "cell_type": "code",
   "execution_count": null,
   "id": "354c8bc7-ceb3-49c7-a76f-fdeae6ff18b6",
   "metadata": {},
   "outputs": [],
   "source": []
  }
 ],
 "metadata": {
  "kernelspec": {
   "display_name": "gpu",
   "language": "python",
   "name": "myenv"
  },
  "language_info": {
   "codemirror_mode": {
    "name": "ipython",
    "version": 3
   },
   "file_extension": ".py",
   "mimetype": "text/x-python",
   "name": "python",
   "nbconvert_exporter": "python",
   "pygments_lexer": "ipython3",
   "version": "3.9.20"
  }
 },
 "nbformat": 4,
 "nbformat_minor": 5
}
